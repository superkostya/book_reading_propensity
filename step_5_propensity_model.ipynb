{
 "cells": [
  {
   "cell_type": "markdown",
   "id": "ccf2c69d-1755-4ad3-a5a9-4dd52a447168",
   "metadata": {},
   "source": [
    "# Book Reading Propensity Model"
   ]
  },
  {
   "cell_type": "code",
   "execution_count": 1,
   "id": "3a860ebd-4f0b-4a5a-8baf-bb4d82a1a82d",
   "metadata": {},
   "outputs": [],
   "source": [
    "from propensity_utils import *"
   ]
  },
  {
   "cell_type": "markdown",
   "id": "cb5711a1-0d9d-4b24-b359-349d974974d8",
   "metadata": {},
   "source": [
    "## Set the Parameters"
   ]
  },
  {
   "cell_type": "code",
   "execution_count": 2,
   "id": "81796854-2b68-41b1-ad82-c430b4def3a3",
   "metadata": {},
   "outputs": [],
   "source": [
    "# Set the parameters\n",
    "random_state = 42\n",
    "algo_params = {'n_factors': 128, \n",
    "               'n_epochs': 100, \n",
    "               'lr_all': 0.005, \n",
    "               'reg_all': 0.1,\n",
    "               'random_state':random_state}"
   ]
  },
  {
   "cell_type": "markdown",
   "id": "9897f13f-5e0f-468f-a52f-f4c647c59200",
   "metadata": {},
   "source": [
    "## Train/Test Data Paths"
   ]
  },
  {
   "cell_type": "code",
   "execution_count": 3,
   "id": "c602746a-0241-4bca-b7af-b393d26308fe",
   "metadata": {},
   "outputs": [],
   "source": [
    "train_val_path = './data/goodreads_2016_train_val.csv'\n",
    "test_path = './data/goodreads_2016_test.csv'"
   ]
  },
  {
   "cell_type": "markdown",
   "id": "091af974-dc58-4d8f-bb42-d5169f1b5804",
   "metadata": {},
   "source": [
    "## Propensity Class and Its Methods"
   ]
  },
  {
   "cell_type": "markdown",
   "id": "76fbe01e-0a75-4425-911b-0b4be8b7e3de",
   "metadata": {},
   "source": [
    "### Instantiate a new model"
   ]
  },
  {
   "cell_type": "code",
   "execution_count": 4,
   "id": "518c14c7-b7af-4c6a-a72f-e023f0384ec2",
   "metadata": {},
   "outputs": [],
   "source": [
    "propensity = Propensity(algo_class=SVD, algo_params=algo_params, train_data_path=train_val_path)"
   ]
  },
  {
   "cell_type": "markdown",
   "id": "1553fcd1-05c8-48ce-bd39-929f47ae7741",
   "metadata": {},
   "source": [
    "### Evaluate the model via cross-validation on the train set"
   ]
  },
  {
   "cell_type": "code",
   "execution_count": 5,
   "id": "ada74cf1-e354-48be-945f-00119c91b038",
   "metadata": {},
   "outputs": [
    {
     "name": "stdout",
     "output_type": "stream",
     "text": [
      "Evaluating RMSE, MAE, FCP of algorithm SVD on 3 split(s).\n",
      "\n",
      "                  Fold 1  Fold 2  Fold 3  Mean    Std     \n",
      "RMSE (testset)    0.7951  0.7956  0.7956  0.7955  0.0002  \n",
      "MAE (testset)     0.6077  0.6083  0.6081  0.6080  0.0002  \n",
      "FCP (testset)     0.6192  0.6173  0.6177  0.6181  0.0008  \n",
      "Fit time          126.59  111.36  116.84  118.26  6.30    \n",
      "Test time         28.71   16.24   11.82   18.92   7.15    \n",
      "CPU times: user 6min 43s, sys: 50 s, total: 7min 33s\n",
      "Wall time: 7min 57s\n"
     ]
    }
   ],
   "source": [
    "%%time\n",
    "propensity.cross_validate(cv=3)"
   ]
  },
  {
   "cell_type": "markdown",
   "id": "e04df088-a4f1-491c-a91a-2a54be68c746",
   "metadata": {},
   "source": [
    "### Train the model, and evaluate it on the test set"
   ]
  },
  {
   "cell_type": "code",
   "execution_count": 6,
   "id": "9c194436-4c0e-4d0d-aa37-06ecdebef336",
   "metadata": {},
   "outputs": [
    {
     "name": "stdout",
     "output_type": "stream",
     "text": [
      "Evaluating the model performance on the test set\n",
      "RMSE: 0.8599\n",
      "MAE:  0.6681\n",
      "FCP:  0.5877\n",
      "Accuracy (Test Set): 65.97%\n",
      "CPU times: user 2min 15s, sys: 10.1 s, total: 2min 25s\n",
      "Wall time: 2min 30s\n"
     ]
    }
   ],
   "source": [
    "%%time\n",
    "propensity.train_and_test(testset_path=test_path, verbose=True)"
   ]
  },
  {
   "cell_type": "markdown",
   "id": "5e409e16-ff30-4595-b770-0de65f272969",
   "metadata": {},
   "source": [
    "### Estimate the confidence on the train set"
   ]
  },
  {
   "cell_type": "code",
   "execution_count": 7,
   "id": "92e5df6f-8bfe-4d3d-8be9-b05518557364",
   "metadata": {},
   "outputs": [
    {
     "name": "stdout",
     "output_type": "stream",
     "text": [
      "Estimating the Confidence on the Train Set...\n",
      "Fold  1: C = 0.70444. Time elapsed:  3.83 minutes\n",
      "Fold  2: C = 0.70346. Time elapsed:  4.30 minutes\n",
      "Fold  3: C = 0.70477. Time elapsed:  4.52 minutes\n",
      "************************************************************\n",
      "Estimated Confidence (on a 3-fold CV): 0.70\n",
      "************************************************************\n",
      "CPU times: user 9min 16s, sys: 2min 13s, total: 11min 29s\n",
      "Wall time: 12min 41s\n"
     ]
    },
    {
     "data": {
      "text/plain": [
       "0.7042216144751977"
      ]
     },
     "execution_count": 7,
     "metadata": {},
     "output_type": "execute_result"
    }
   ],
   "source": [
    "%%time\n",
    "propensity.estimate_confidence(n_cv_folds=3, verbose=True)"
   ]
  },
  {
   "cell_type": "markdown",
   "id": "2729ac42-42d7-4fc6-9367-f40bfb5edda8",
   "metadata": {},
   "source": [
    "### Train the model"
   ]
  },
  {
   "cell_type": "code",
   "execution_count": 10,
   "id": "56b8929e-990b-461a-ad54-9b981f4efa67",
   "metadata": {},
   "outputs": [
    {
     "name": "stdout",
     "output_type": "stream",
     "text": [
      "CPU times: user 3min 7s, sys: 22.2 s, total: 3min 29s\n",
      "Wall time: 3min 43s\n"
     ]
    }
   ],
   "source": [
    "%%time\n",
    "# Test: Set the global confidence manually, to save time\n",
    "# propensity.confidence = 0.7042216144751977\n",
    "propensity.train_model(verbose=True)"
   ]
  },
  {
   "cell_type": "markdown",
   "id": "94fb1a71-317e-4f38-828a-7f956f9bae5e",
   "metadata": {},
   "source": [
    "### Look at the fitted train set (with predicted propensity & estimated confidence)\n",
    "\n",
    "__Note:__ The estimated confidence is a weighted average of two point estimates: \n",
    " * Global confidence (probability of a correct binary prediction for the entire dataset)\n",
    " * User-based confidence (probability of a correct binary prediction for a given user)"
   ]
  },
  {
   "cell_type": "code",
   "execution_count": 11,
   "id": "f484fbe9-2e51-484d-9ee1-5b6c69502a81",
   "metadata": {},
   "outputs": [
    {
     "data": {
      "text/html": [
       "<div>\n",
       "<style scoped>\n",
       "    .dataframe tbody tr th:only-of-type {\n",
       "        vertical-align: middle;\n",
       "    }\n",
       "\n",
       "    .dataframe tbody tr th {\n",
       "        vertical-align: top;\n",
       "    }\n",
       "\n",
       "    .dataframe thead th {\n",
       "        text-align: right;\n",
       "    }\n",
       "</style>\n",
       "<table border=\"1\" class=\"dataframe\">\n",
       "  <thead>\n",
       "    <tr style=\"text-align: right;\">\n",
       "      <th></th>\n",
       "      <th>user_id</th>\n",
       "      <th>book_id</th>\n",
       "      <th>rating</th>\n",
       "      <th>rating_predicted</th>\n",
       "      <th>would_recommend</th>\n",
       "      <th>would_recommend_pred</th>\n",
       "      <th>prediction_is_correct</th>\n",
       "      <th>user_correct_pred_cnt</th>\n",
       "      <th>user_rating_cnt</th>\n",
       "      <th>user_correct_pred_fraction</th>\n",
       "      <th>confidence</th>\n",
       "    </tr>\n",
       "  </thead>\n",
       "  <tbody>\n",
       "    <tr>\n",
       "      <th>1703630</th>\n",
       "      <td>65b9e320beda7353c3455b752bdf6d26</td>\n",
       "      <td>7507908</td>\n",
       "      <td>3</td>\n",
       "      <td>4.014392</td>\n",
       "      <td>0</td>\n",
       "      <td>1</td>\n",
       "      <td>0</td>\n",
       "      <td>7</td>\n",
       "      <td>10</td>\n",
       "      <td>0.700000</td>\n",
       "      <td>0.702111</td>\n",
       "    </tr>\n",
       "    <tr>\n",
       "      <th>1732739</th>\n",
       "      <td>834b0a31496b41d11343d4bfb97abf70</td>\n",
       "      <td>7171637</td>\n",
       "      <td>5</td>\n",
       "      <td>4.566122</td>\n",
       "      <td>1</td>\n",
       "      <td>1</td>\n",
       "      <td>1</td>\n",
       "      <td>47</td>\n",
       "      <td>49</td>\n",
       "      <td>0.959184</td>\n",
       "      <td>0.915970</td>\n",
       "    </tr>\n",
       "    <tr>\n",
       "      <th>2040158</th>\n",
       "      <td>560913dd21187b9d928f54702ab788d4</td>\n",
       "      <td>13206900</td>\n",
       "      <td>5</td>\n",
       "      <td>4.694133</td>\n",
       "      <td>1</td>\n",
       "      <td>1</td>\n",
       "      <td>1</td>\n",
       "      <td>16</td>\n",
       "      <td>17</td>\n",
       "      <td>0.941176</td>\n",
       "      <td>0.853415</td>\n",
       "    </tr>\n",
       "    <tr>\n",
       "      <th>2067686</th>\n",
       "      <td>803d3c2fae0bf5ef52ea715ff22350d3</td>\n",
       "      <td>71811</td>\n",
       "      <td>4</td>\n",
       "      <td>3.414700</td>\n",
       "      <td>1</td>\n",
       "      <td>0</td>\n",
       "      <td>0</td>\n",
       "      <td>22</td>\n",
       "      <td>43</td>\n",
       "      <td>0.511628</td>\n",
       "      <td>0.547966</td>\n",
       "    </tr>\n",
       "    <tr>\n",
       "      <th>2620873</th>\n",
       "      <td>221ff13d393301162833ff0a277ac67c</td>\n",
       "      <td>13497</td>\n",
       "      <td>5</td>\n",
       "      <td>4.770233</td>\n",
       "      <td>1</td>\n",
       "      <td>1</td>\n",
       "      <td>1</td>\n",
       "      <td>22</td>\n",
       "      <td>24</td>\n",
       "      <td>0.916667</td>\n",
       "      <td>0.854183</td>\n",
       "    </tr>\n",
       "  </tbody>\n",
       "</table>\n",
       "</div>"
      ],
      "text/plain": [
       "                                  user_id   book_id  rating  rating_predicted  \\\n",
       "1703630  65b9e320beda7353c3455b752bdf6d26   7507908       3          4.014392   \n",
       "1732739  834b0a31496b41d11343d4bfb97abf70   7171637       5          4.566122   \n",
       "2040158  560913dd21187b9d928f54702ab788d4  13206900       5          4.694133   \n",
       "2067686  803d3c2fae0bf5ef52ea715ff22350d3     71811       4          3.414700   \n",
       "2620873  221ff13d393301162833ff0a277ac67c     13497       5          4.770233   \n",
       "\n",
       "         would_recommend  would_recommend_pred  prediction_is_correct  \\\n",
       "1703630                0                     1                      0   \n",
       "1732739                1                     1                      1   \n",
       "2040158                1                     1                      1   \n",
       "2067686                1                     0                      0   \n",
       "2620873                1                     1                      1   \n",
       "\n",
       "         user_correct_pred_cnt  user_rating_cnt  user_correct_pred_fraction  \\\n",
       "1703630                      7               10                    0.700000   \n",
       "1732739                     47               49                    0.959184   \n",
       "2040158                     16               17                    0.941176   \n",
       "2067686                     22               43                    0.511628   \n",
       "2620873                     22               24                    0.916667   \n",
       "\n",
       "         confidence  \n",
       "1703630    0.702111  \n",
       "1732739    0.915970  \n",
       "2040158    0.853415  \n",
       "2067686    0.547966  \n",
       "2620873    0.854183  "
      ]
     },
     "execution_count": 11,
     "metadata": {},
     "output_type": "execute_result"
    }
   ],
   "source": [
    "propensity.train_data_fitted.sample(5)"
   ]
  },
  {
   "cell_type": "markdown",
   "id": "6874631a-6149-49b6-af10-55cde8684bde",
   "metadata": {},
   "source": [
    "### User confidence table"
   ]
  },
  {
   "cell_type": "code",
   "execution_count": 12,
   "id": "27d8e924-bfde-4b9a-98e8-27a2a4885216",
   "metadata": {},
   "outputs": [
    {
     "data": {
      "text/html": [
       "<div>\n",
       "<style scoped>\n",
       "    .dataframe tbody tr th:only-of-type {\n",
       "        vertical-align: middle;\n",
       "    }\n",
       "\n",
       "    .dataframe tbody tr th {\n",
       "        vertical-align: top;\n",
       "    }\n",
       "\n",
       "    .dataframe thead th {\n",
       "        text-align: right;\n",
       "    }\n",
       "</style>\n",
       "<table border=\"1\" class=\"dataframe\">\n",
       "  <thead>\n",
       "    <tr style=\"text-align: right;\">\n",
       "      <th></th>\n",
       "      <th>user_id</th>\n",
       "      <th>confidence</th>\n",
       "    </tr>\n",
       "  </thead>\n",
       "  <tbody>\n",
       "    <tr>\n",
       "      <th>3298004</th>\n",
       "      <td>389538565a500c066dcbc461c9fc6224</td>\n",
       "      <td>0.347778</td>\n",
       "    </tr>\n",
       "    <tr>\n",
       "      <th>3427244</th>\n",
       "      <td>4e463f146a3c6b8a8cdac937847546ee</td>\n",
       "      <td>0.826013</td>\n",
       "    </tr>\n",
       "    <tr>\n",
       "      <th>2426863</th>\n",
       "      <td>186b758d78d9326d7ec275d12bfdb2a3</td>\n",
       "      <td>0.640201</td>\n",
       "    </tr>\n",
       "    <tr>\n",
       "      <th>1764701</th>\n",
       "      <td>d4875f63f92eb4714501607dc9d57555</td>\n",
       "      <td>0.859153</td>\n",
       "    </tr>\n",
       "    <tr>\n",
       "      <th>980079</th>\n",
       "      <td>5c2448139a79df2698faecb1d0fa3663</td>\n",
       "      <td>0.841689</td>\n",
       "    </tr>\n",
       "  </tbody>\n",
       "</table>\n",
       "</div>"
      ],
      "text/plain": [
       "                                  user_id  confidence\n",
       "3298004  389538565a500c066dcbc461c9fc6224    0.347778\n",
       "3427244  4e463f146a3c6b8a8cdac937847546ee    0.826013\n",
       "2426863  186b758d78d9326d7ec275d12bfdb2a3    0.640201\n",
       "1764701  d4875f63f92eb4714501607dc9d57555    0.859153\n",
       "980079   5c2448139a79df2698faecb1d0fa3663    0.841689"
      ]
     },
     "execution_count": 12,
     "metadata": {},
     "output_type": "execute_result"
    }
   ],
   "source": [
    "propensity.user_confidence.sample(5)"
   ]
  },
  {
   "cell_type": "markdown",
   "id": "8f3705f9-4b60-4625-aa31-5d9a97731449",
   "metadata": {},
   "source": [
    "### Make a prediction"
   ]
  },
  {
   "cell_type": "code",
   "execution_count": 13,
   "id": "89e0ff0e-fff3-4553-838e-f2c54c28dd45",
   "metadata": {},
   "outputs": [
    {
     "name": "stdout",
     "output_type": "stream",
     "text": [
      "CPU times: user 103 ms, sys: 46.2 ms, total: 149 ms\n",
      "Wall time: 163 ms\n"
     ]
    },
    {
     "data": {
      "text/plain": [
       "(1, 0.7311105586138161)"
      ]
     },
     "execution_count": 13,
     "metadata": {},
     "output_type": "execute_result"
    }
   ],
   "source": [
    "%%time\n",
    "user_id, item_id = '8842281e1d1347389f2ab93d60773d4d', 76620\n",
    "res = propensity.infer_propensity_for_pair(user_id, item_id, verbose=False)\n",
    "res"
   ]
  },
  {
   "cell_type": "markdown",
   "id": "ee307587-e470-4260-9bab-287582313275",
   "metadata": {},
   "source": [
    "### Batch prediction: entire test set"
   ]
  },
  {
   "cell_type": "code",
   "execution_count": 14,
   "id": "b5768a61-e08c-4b66-83f5-11c7d5df0d2c",
   "metadata": {},
   "outputs": [
    {
     "name": "stdout",
     "output_type": "stream",
     "text": [
      "CPU times: user 5.07 s, sys: 134 ms, total: 5.21 s\n",
      "Wall time: 5.32 s\n"
     ]
    }
   ],
   "source": [
    "%%time\n",
    "res_df = propensity.infer_propensity_from_df(test_path, verbose=False)"
   ]
  },
  {
   "cell_type": "code",
   "execution_count": 15,
   "id": "66e0e6a5-8cce-411f-b9a9-2ea939616749",
   "metadata": {},
   "outputs": [
    {
     "data": {
      "text/html": [
       "<div>\n",
       "<style scoped>\n",
       "    .dataframe tbody tr th:only-of-type {\n",
       "        vertical-align: middle;\n",
       "    }\n",
       "\n",
       "    .dataframe tbody tr th {\n",
       "        vertical-align: top;\n",
       "    }\n",
       "\n",
       "    .dataframe thead th {\n",
       "        text-align: right;\n",
       "    }\n",
       "</style>\n",
       "<table border=\"1\" class=\"dataframe\">\n",
       "  <thead>\n",
       "    <tr style=\"text-align: right;\">\n",
       "      <th></th>\n",
       "      <th>user_id</th>\n",
       "      <th>book_id</th>\n",
       "      <th>would_recommend_pred</th>\n",
       "      <th>confidence</th>\n",
       "    </tr>\n",
       "  </thead>\n",
       "  <tbody>\n",
       "    <tr>\n",
       "      <th>159888</th>\n",
       "      <td>9f111d5d9d86f7460e86972db85ac52c</td>\n",
       "      <td>25241477</td>\n",
       "      <td>1</td>\n",
       "      <td>0.767189</td>\n",
       "    </tr>\n",
       "    <tr>\n",
       "      <th>11176</th>\n",
       "      <td>fca6a41f55842d0435d48cc8076a8fe6</td>\n",
       "      <td>91475</td>\n",
       "      <td>0</td>\n",
       "      <td>0.300704</td>\n",
       "    </tr>\n",
       "    <tr>\n",
       "      <th>197960</th>\n",
       "      <td>c680b6e0e998d0aa8386587a32d26a44</td>\n",
       "      <td>24866845</td>\n",
       "      <td>1</td>\n",
       "      <td>0.704222</td>\n",
       "    </tr>\n",
       "    <tr>\n",
       "      <th>173867</th>\n",
       "      <td>e9262f2dab75dc99e7d984afae17ea42</td>\n",
       "      <td>4769247</td>\n",
       "      <td>1</td>\n",
       "      <td>0.917546</td>\n",
       "    </tr>\n",
       "    <tr>\n",
       "      <th>299232</th>\n",
       "      <td>b79a23fed94235a8e4a98aff257004b5</td>\n",
       "      <td>17331518</td>\n",
       "      <td>1</td>\n",
       "      <td>0.704222</td>\n",
       "    </tr>\n",
       "    <tr>\n",
       "      <th>205945</th>\n",
       "      <td>14dcc06a5b8836bdce618891c6ae461a</td>\n",
       "      <td>6668868</td>\n",
       "      <td>0</td>\n",
       "      <td>0.563819</td>\n",
       "    </tr>\n",
       "    <tr>\n",
       "      <th>230952</th>\n",
       "      <td>ce93ba0b6e41e93b81b81968a0ccd650</td>\n",
       "      <td>30245</td>\n",
       "      <td>1</td>\n",
       "      <td>0.779341</td>\n",
       "    </tr>\n",
       "    <tr>\n",
       "      <th>53938</th>\n",
       "      <td>6d7b490c88b5cca494ad8f7d87a7f2c3</td>\n",
       "      <td>4978</td>\n",
       "      <td>0</td>\n",
       "      <td>0.637323</td>\n",
       "    </tr>\n",
       "    <tr>\n",
       "      <th>303726</th>\n",
       "      <td>346c318e6c257f50ba58d82a99f46bbd</td>\n",
       "      <td>13023</td>\n",
       "      <td>1</td>\n",
       "      <td>0.704222</td>\n",
       "    </tr>\n",
       "    <tr>\n",
       "      <th>96652</th>\n",
       "      <td>98af18e6e108b206195b4f9d5c4b0df5</td>\n",
       "      <td>18874336</td>\n",
       "      <td>1</td>\n",
       "      <td>0.902633</td>\n",
       "    </tr>\n",
       "  </tbody>\n",
       "</table>\n",
       "</div>"
      ],
      "text/plain": [
       "                                 user_id   book_id  would_recommend_pred  \\\n",
       "159888  9f111d5d9d86f7460e86972db85ac52c  25241477                     1   \n",
       "11176   fca6a41f55842d0435d48cc8076a8fe6     91475                     0   \n",
       "197960  c680b6e0e998d0aa8386587a32d26a44  24866845                     1   \n",
       "173867  e9262f2dab75dc99e7d984afae17ea42   4769247                     1   \n",
       "299232  b79a23fed94235a8e4a98aff257004b5  17331518                     1   \n",
       "205945  14dcc06a5b8836bdce618891c6ae461a   6668868                     0   \n",
       "230952  ce93ba0b6e41e93b81b81968a0ccd650     30245                     1   \n",
       "53938   6d7b490c88b5cca494ad8f7d87a7f2c3      4978                     0   \n",
       "303726  346c318e6c257f50ba58d82a99f46bbd     13023                     1   \n",
       "96652   98af18e6e108b206195b4f9d5c4b0df5  18874336                     1   \n",
       "\n",
       "        confidence  \n",
       "159888    0.767189  \n",
       "11176     0.300704  \n",
       "197960    0.704222  \n",
       "173867    0.917546  \n",
       "299232    0.704222  \n",
       "205945    0.563819  \n",
       "230952    0.779341  \n",
       "53938     0.637323  \n",
       "303726    0.704222  \n",
       "96652     0.902633  "
      ]
     },
     "execution_count": 15,
     "metadata": {},
     "output_type": "execute_result"
    }
   ],
   "source": [
    "res_df.sample(10)"
   ]
  }
 ],
 "metadata": {
  "kernelspec": {
   "display_name": "Python 3 (ipykernel)",
   "language": "python",
   "name": "python3"
  },
  "language_info": {
   "codemirror_mode": {
    "name": "ipython",
    "version": 3
   },
   "file_extension": ".py",
   "mimetype": "text/x-python",
   "name": "python",
   "nbconvert_exporter": "python",
   "pygments_lexer": "ipython3",
   "version": "3.9.13"
  }
 },
 "nbformat": 4,
 "nbformat_minor": 5
}
