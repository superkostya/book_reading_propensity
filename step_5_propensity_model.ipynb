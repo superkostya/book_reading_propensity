{
 "cells": [
  {
   "cell_type": "markdown",
   "id": "ccf2c69d-1755-4ad3-a5a9-4dd52a447168",
   "metadata": {},
   "source": [
    "# Book Reading Propensity Model"
   ]
  },
  {
   "cell_type": "code",
   "execution_count": 1,
   "id": "3a860ebd-4f0b-4a5a-8baf-bb4d82a1a82d",
   "metadata": {},
   "outputs": [],
   "source": [
    "from propensity_utils import *"
   ]
  },
  {
   "cell_type": "markdown",
   "id": "cb5711a1-0d9d-4b24-b359-349d974974d8",
   "metadata": {},
   "source": [
    "## Set the Parameters"
   ]
  },
  {
   "cell_type": "code",
   "execution_count": 2,
   "id": "81796854-2b68-41b1-ad82-c430b4def3a3",
   "metadata": {},
   "outputs": [],
   "source": [
    "# Set the parameters\n",
    "random_state = 42\n",
    "algo_params = {'n_factors': 128, \n",
    "               'n_epochs': 100, \n",
    "               'lr_all': 0.005, \n",
    "               'reg_all': 0.1,\n",
    "               'random_state':random_state}"
   ]
  },
  {
   "cell_type": "markdown",
   "id": "9897f13f-5e0f-468f-a52f-f4c647c59200",
   "metadata": {},
   "source": [
    "## Train/Test Data Paths"
   ]
  },
  {
   "cell_type": "code",
   "execution_count": 3,
   "id": "c602746a-0241-4bca-b7af-b393d26308fe",
   "metadata": {},
   "outputs": [],
   "source": [
    "train_val_path = './data/goodreads_2016_train_val.csv'\n",
    "test_path = './data/goodreads_2016_test.csv'"
   ]
  },
  {
   "cell_type": "markdown",
   "id": "091af974-dc58-4d8f-bb42-d5169f1b5804",
   "metadata": {},
   "source": [
    "## Propensity Class and Its Methods"
   ]
  },
  {
   "cell_type": "markdown",
   "id": "76fbe01e-0a75-4425-911b-0b4be8b7e3de",
   "metadata": {},
   "source": [
    "### Instantiate a new model"
   ]
  },
  {
   "cell_type": "code",
   "execution_count": 4,
   "id": "518c14c7-b7af-4c6a-a72f-e023f0384ec2",
   "metadata": {},
   "outputs": [],
   "source": [
    "propensity = Propensity(algo_class=SVD, algo_params=algo_params, train_data_path=train_val_path)"
   ]
  },
  {
   "cell_type": "markdown",
   "id": "1553fcd1-05c8-48ce-bd39-929f47ae7741",
   "metadata": {},
   "source": [
    "### Evaluate the model via cross-validation on the train set"
   ]
  },
  {
   "cell_type": "code",
   "execution_count": 5,
   "id": "ada74cf1-e354-48be-945f-00119c91b038",
   "metadata": {},
   "outputs": [
    {
     "name": "stdout",
     "output_type": "stream",
     "text": [
      "Evaluating RMSE, MAE, FCP of algorithm SVD on 3 split(s).\n",
      "\n",
      "                  Fold 1  Fold 2  Fold 3  Mean    Std     \n",
      "RMSE (testset)    0.7964  0.7947  0.7951  0.7954  0.0007  \n",
      "MAE (testset)     0.6087  0.6074  0.6082  0.6081  0.0005  \n",
      "FCP (testset)     0.6166  0.6186  0.6190  0.6181  0.0010  \n",
      "Fit time          122.56  149.55  149.43  140.51  12.69   \n",
      "Test time         28.16   30.76   31.61   30.18   1.46    \n",
      "CPU times: user 7min 1s, sys: 1min 47s, total: 8min 48s\n",
      "Wall time: 9min 51s\n"
     ]
    }
   ],
   "source": [
    "%%time\n",
    "propensity.cross_validate(cv=3)"
   ]
  },
  {
   "cell_type": "markdown",
   "id": "e04df088-a4f1-491c-a91a-2a54be68c746",
   "metadata": {},
   "source": [
    "### Train the model, and evaluate it on the test set"
   ]
  },
  {
   "cell_type": "code",
   "execution_count": 6,
   "id": "9c194436-4c0e-4d0d-aa37-06ecdebef336",
   "metadata": {},
   "outputs": [
    {
     "name": "stdout",
     "output_type": "stream",
     "text": [
      "Evaluating the model performance on the test set\n",
      "RMSE: 0.8599\n",
      "MAE:  0.6681\n",
      "FCP:  0.5877\n",
      "CPU times: user 2min 23s, sys: 44.2 s, total: 3min 7s\n",
      "Wall time: 3min 39s\n"
     ]
    }
   ],
   "source": [
    "%%time\n",
    "propensity.train_and_test(testset_path=test_path, verbose=True)"
   ]
  },
  {
   "cell_type": "markdown",
   "id": "5e409e16-ff30-4595-b770-0de65f272969",
   "metadata": {},
   "source": [
    "### Estimate the confidence on the train set"
   ]
  },
  {
   "cell_type": "code",
   "execution_count": 7,
   "id": "92e5df6f-8bfe-4d3d-8be9-b05518557364",
   "metadata": {},
   "outputs": [
    {
     "name": "stdout",
     "output_type": "stream",
     "text": [
      "Estimating the Confidence on the Train Set...\n",
      "Fold  1: C = 0.70444. Time elapsed:  6.12 minutes\n",
      "Fold  2: C = 0.70346. Time elapsed:  6.45 minutes\n",
      "Fold  3: C = 0.70477. Time elapsed:  8.96 minutes\n",
      "************************************************************\n",
      "Estimated Confidence (on a 3-fold CV): 0.70\n",
      "************************************************************\n",
      "CPU times: user 10min 43s, sys: 6min 30s, total: 17min 14s\n",
      "Wall time: 21min 35s\n"
     ]
    },
    {
     "data": {
      "text/plain": [
       "0.7042216144751977"
      ]
     },
     "execution_count": 7,
     "metadata": {},
     "output_type": "execute_result"
    }
   ],
   "source": [
    "%%time\n",
    "propensity.estimate_confidence(n_cv_folds=3, verbose=True)"
   ]
  },
  {
   "cell_type": "markdown",
   "id": "2729ac42-42d7-4fc6-9367-f40bfb5edda8",
   "metadata": {},
   "source": [
    "### Train the model"
   ]
  },
  {
   "cell_type": "code",
   "execution_count": 8,
   "id": "56b8929e-990b-461a-ad54-9b981f4efa67",
   "metadata": {},
   "outputs": [
    {
     "name": "stdout",
     "output_type": "stream",
     "text": [
      "CPU times: user 2min 23s, sys: 1min 9s, total: 3min 33s\n",
      "Wall time: 4min 21s\n"
     ]
    }
   ],
   "source": [
    "%%time\n",
    "propensity.train_model()"
   ]
  },
  {
   "cell_type": "markdown",
   "id": "8f3705f9-4b60-4625-aa31-5d9a97731449",
   "metadata": {},
   "source": [
    "### Make a prediction"
   ]
  },
  {
   "cell_type": "code",
   "execution_count": 9,
   "id": "89e0ff0e-fff3-4553-838e-f2c54c28dd45",
   "metadata": {},
   "outputs": [
    {
     "name": "stdout",
     "output_type": "stream",
     "text": [
      "CPU times: user 336 µs, sys: 1.33 ms, total: 1.67 ms\n",
      "Wall time: 8.24 ms\n"
     ]
    },
    {
     "data": {
      "text/plain": [
       "(1, 0.7042216144751977)"
      ]
     },
     "execution_count": 9,
     "metadata": {},
     "output_type": "execute_result"
    }
   ],
   "source": [
    "%%time\n",
    "user_id, item_id = '8842281e1d1347389f2ab93d60773d4d', 76620\n",
    "res = propensity.infer_propensity_for_pair(user_id, item_id, verbose=False)\n",
    "res"
   ]
  },
  {
   "cell_type": "code",
   "execution_count": 13,
   "id": "b5768a61-e08c-4b66-83f5-11c7d5df0d2c",
   "metadata": {},
   "outputs": [
    {
     "data": {
      "text/html": [
       "<div>\n",
       "<style scoped>\n",
       "    .dataframe tbody tr th:only-of-type {\n",
       "        vertical-align: middle;\n",
       "    }\n",
       "\n",
       "    .dataframe tbody tr th {\n",
       "        vertical-align: top;\n",
       "    }\n",
       "\n",
       "    .dataframe thead th {\n",
       "        text-align: right;\n",
       "    }\n",
       "</style>\n",
       "<table border=\"1\" class=\"dataframe\">\n",
       "  <thead>\n",
       "    <tr style=\"text-align: right;\">\n",
       "      <th></th>\n",
       "      <th>user_id</th>\n",
       "      <th>book_id</th>\n",
       "      <th>would_recommend_pred</th>\n",
       "      <th>confidence</th>\n",
       "    </tr>\n",
       "  </thead>\n",
       "  <tbody>\n",
       "    <tr>\n",
       "      <th>0</th>\n",
       "      <td>8842281e1d1347389f2ab93d60773d4d</td>\n",
       "      <td>29058155</td>\n",
       "      <td>1</td>\n",
       "      <td>0.704222</td>\n",
       "    </tr>\n",
       "    <tr>\n",
       "      <th>1</th>\n",
       "      <td>8842281e1d1347389f2ab93d60773d4d</td>\n",
       "      <td>76620</td>\n",
       "      <td>1</td>\n",
       "      <td>0.704222</td>\n",
       "    </tr>\n",
       "    <tr>\n",
       "      <th>2</th>\n",
       "      <td>01ec1a320ffded6b2dd47833f2c8e4fb</td>\n",
       "      <td>30853358</td>\n",
       "      <td>1</td>\n",
       "      <td>0.704222</td>\n",
       "    </tr>\n",
       "    <tr>\n",
       "      <th>3</th>\n",
       "      <td>4b3636a043e5c99fa27ac897ccfa1151</td>\n",
       "      <td>34084</td>\n",
       "      <td>0</td>\n",
       "      <td>0.704222</td>\n",
       "    </tr>\n",
       "    <tr>\n",
       "      <th>4</th>\n",
       "      <td>afc070543f19028dc7e7f084a0079f72</td>\n",
       "      <td>18131</td>\n",
       "      <td>1</td>\n",
       "      <td>0.704222</td>\n",
       "    </tr>\n",
       "  </tbody>\n",
       "</table>\n",
       "</div>"
      ],
      "text/plain": [
       "                            user_id   book_id  would_recommend_pred  \\\n",
       "0  8842281e1d1347389f2ab93d60773d4d  29058155                     1   \n",
       "1  8842281e1d1347389f2ab93d60773d4d     76620                     1   \n",
       "2  01ec1a320ffded6b2dd47833f2c8e4fb  30853358                     1   \n",
       "3  4b3636a043e5c99fa27ac897ccfa1151     34084                     0   \n",
       "4  afc070543f19028dc7e7f084a0079f72     18131                     1   \n",
       "\n",
       "   confidence  \n",
       "0    0.704222  \n",
       "1    0.704222  \n",
       "2    0.704222  \n",
       "3    0.704222  \n",
       "4    0.704222  "
      ]
     },
     "execution_count": 13,
     "metadata": {},
     "output_type": "execute_result"
    }
   ],
   "source": [
    "res_df = propensity.infer_propensity_from_df(test_path, verbose=False)\n",
    "res_df.head()"
   ]
  }
 ],
 "metadata": {
  "kernelspec": {
   "display_name": "Python 3 (ipykernel)",
   "language": "python",
   "name": "python3"
  },
  "language_info": {
   "codemirror_mode": {
    "name": "ipython",
    "version": 3
   },
   "file_extension": ".py",
   "mimetype": "text/x-python",
   "name": "python",
   "nbconvert_exporter": "python",
   "pygments_lexer": "ipython3",
   "version": "3.9.13"
  }
 },
 "nbformat": 4,
 "nbformat_minor": 5
}
