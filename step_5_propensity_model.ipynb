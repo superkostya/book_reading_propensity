{
 "cells": [
  {
   "cell_type": "markdown",
   "id": "ccf2c69d-1755-4ad3-a5a9-4dd52a447168",
   "metadata": {},
   "source": [
    "# Book Reading Propensity Model"
   ]
  },
  {
   "cell_type": "code",
   "execution_count": 1,
   "id": "3a860ebd-4f0b-4a5a-8baf-bb4d82a1a82d",
   "metadata": {},
   "outputs": [],
   "source": [
    "from propensity_utils import *"
   ]
  },
  {
   "cell_type": "markdown",
   "id": "cb5711a1-0d9d-4b24-b359-349d974974d8",
   "metadata": {},
   "source": [
    "## Set the Parameters"
   ]
  },
  {
   "cell_type": "code",
   "execution_count": 2,
   "id": "81796854-2b68-41b1-ad82-c430b4def3a3",
   "metadata": {},
   "outputs": [],
   "source": [
    "# Set the parameters\n",
    "random_state = 42\n",
    "algo_params = {'n_factors': 128, \n",
    "               'n_epochs': 1, \n",
    "               'lr_all': 0.005, \n",
    "               'reg_all': 0.1,\n",
    "               'random_state':random_state}"
   ]
  },
  {
   "cell_type": "markdown",
   "id": "9897f13f-5e0f-468f-a52f-f4c647c59200",
   "metadata": {},
   "source": [
    "## Train/Test Data Paths"
   ]
  },
  {
   "cell_type": "code",
   "execution_count": 3,
   "id": "c602746a-0241-4bca-b7af-b393d26308fe",
   "metadata": {},
   "outputs": [],
   "source": [
    "train_val_path = './data/goodreads_2016_train_val.csv'\n",
    "test_path = './data/goodreads_2016_test.csv'"
   ]
  },
  {
   "cell_type": "markdown",
   "id": "091af974-dc58-4d8f-bb42-d5169f1b5804",
   "metadata": {},
   "source": [
    "## Propensity Class and Its Methods"
   ]
  },
  {
   "cell_type": "markdown",
   "id": "76fbe01e-0a75-4425-911b-0b4be8b7e3de",
   "metadata": {},
   "source": [
    "### Instantiate a new model"
   ]
  },
  {
   "cell_type": "code",
   "execution_count": 4,
   "id": "518c14c7-b7af-4c6a-a72f-e023f0384ec2",
   "metadata": {},
   "outputs": [],
   "source": [
    "propensity = Propensity(algo_class=SVD, algo_params=algo_params, train_data_path=train_val_path)"
   ]
  },
  {
   "cell_type": "markdown",
   "id": "1553fcd1-05c8-48ce-bd39-929f47ae7741",
   "metadata": {},
   "source": [
    "### Evaluate the model via cross-validation on the train set"
   ]
  },
  {
   "cell_type": "code",
   "execution_count": 5,
   "id": "ada74cf1-e354-48be-945f-00119c91b038",
   "metadata": {},
   "outputs": [
    {
     "name": "stdout",
     "output_type": "stream",
     "text": [
      "Evaluating RMSE, MAE, FCP of algorithm SVD on 3 split(s).\n",
      "\n",
      "                  Fold 1  Fold 2  Fold 3  Mean    Std     \n",
      "RMSE (testset)    0.8963  0.8955  0.8955  0.8958  0.0004  \n",
      "MAE (testset)     0.7037  0.7032  0.7034  0.7035  0.0002  \n",
      "FCP (testset)     0.5526  0.5509  0.5502  0.5512  0.0010  \n",
      "Fit time          3.52    4.62    4.26    4.14    0.46    \n",
      "Test time         26.60   9.81    12.40   16.27   7.38    \n",
      "CPU times: user 1min 23s, sys: 26 s, total: 1min 49s\n",
      "Wall time: 2min 3s\n"
     ]
    }
   ],
   "source": [
    "%%time\n",
    "propensity.cross_validate(cv=3)"
   ]
  },
  {
   "cell_type": "markdown",
   "id": "e04df088-a4f1-491c-a91a-2a54be68c746",
   "metadata": {},
   "source": [
    "### Train the model, and evaluate it on the test set"
   ]
  },
  {
   "cell_type": "code",
   "execution_count": 5,
   "id": "9c194436-4c0e-4d0d-aa37-06ecdebef336",
   "metadata": {},
   "outputs": [
    {
     "name": "stdout",
     "output_type": "stream",
     "text": [
      "Evaluating the model performance on the test set\n",
      "RMSE: 0.9119\n",
      "MAE:  0.7126\n",
      "FCP:  0.5630\n",
      "Accuracy (Test Set): 72.75%\n",
      "CPU times: user 19.6 s, sys: 2.88 s, total: 22.5 s\n",
      "Wall time: 23.9 s\n"
     ]
    }
   ],
   "source": [
    "%%time\n",
    "propensity.train_and_test(testset_path=test_path, verbose=True)"
   ]
  },
  {
   "cell_type": "markdown",
   "id": "5e409e16-ff30-4595-b770-0de65f272969",
   "metadata": {},
   "source": [
    "### Estimate the confidence on the train set"
   ]
  },
  {
   "cell_type": "code",
   "execution_count": 6,
   "id": "92e5df6f-8bfe-4d3d-8be9-b05518557364",
   "metadata": {},
   "outputs": [
    {
     "name": "stdout",
     "output_type": "stream",
     "text": [
      "Estimating the Confidence on the Train Set...\n",
      "Fold  1: C = 0.67718. Time elapsed:  0.53 minutes\n",
      "Fold  2: C = 0.67845. Time elapsed:  0.59 minutes\n",
      "Fold  3: C = 0.67835. Time elapsed:  0.64 minutes\n",
      "************************************************************\n",
      "Estimated Confidence (on a 3-fold CV): 0.68\n",
      "************************************************************\n",
      "CPU times: user 1min 19s, sys: 19 s, total: 1min 38s\n",
      "Wall time: 1min 48s\n"
     ]
    },
    {
     "data": {
      "text/plain": [
       "0.6779931938697099"
      ]
     },
     "execution_count": 6,
     "metadata": {},
     "output_type": "execute_result"
    }
   ],
   "source": [
    "%%time\n",
    "propensity.estimate_confidence(n_cv_folds=3, verbose=True)"
   ]
  },
  {
   "cell_type": "markdown",
   "id": "2729ac42-42d7-4fc6-9367-f40bfb5edda8",
   "metadata": {},
   "source": [
    "### Train the model"
   ]
  },
  {
   "cell_type": "code",
   "execution_count": 5,
   "id": "56b8929e-990b-461a-ad54-9b981f4efa67",
   "metadata": {},
   "outputs": [
    {
     "name": "stdout",
     "output_type": "stream",
     "text": [
      "CPU times: user 1min 6s, sys: 2.82 s, total: 1min 9s\n",
      "Wall time: 1min 10s\n"
     ]
    }
   ],
   "source": [
    "%%time\n",
    "propensity.confidence = 0.68\n",
    "propensity.train_model(verbose=True)"
   ]
  },
  {
   "cell_type": "markdown",
   "id": "94fb1a71-317e-4f38-828a-7f956f9bae5e",
   "metadata": {},
   "source": [
    "### Look at the fitted train set (with predicted propensity & estimated confidence)\n",
    "\n",
    "__Note:__ The estimated confidence is a weighted average of two point estimates: \n",
    " * Global confidence (probability of a correct binary prediction for the entire dataset)\n",
    " * User-based confidence (probability of a correct binary prediction for a given user)"
   ]
  },
  {
   "cell_type": "code",
   "execution_count": 6,
   "id": "f484fbe9-2e51-484d-9ee1-5b6c69502a81",
   "metadata": {},
   "outputs": [
    {
     "data": {
      "text/html": [
       "<div>\n",
       "<style scoped>\n",
       "    .dataframe tbody tr th:only-of-type {\n",
       "        vertical-align: middle;\n",
       "    }\n",
       "\n",
       "    .dataframe tbody tr th {\n",
       "        vertical-align: top;\n",
       "    }\n",
       "\n",
       "    .dataframe thead th {\n",
       "        text-align: right;\n",
       "    }\n",
       "</style>\n",
       "<table border=\"1\" class=\"dataframe\">\n",
       "  <thead>\n",
       "    <tr style=\"text-align: right;\">\n",
       "      <th></th>\n",
       "      <th>user_id</th>\n",
       "      <th>book_id</th>\n",
       "      <th>rating</th>\n",
       "      <th>rating_predicted</th>\n",
       "      <th>would_recommend</th>\n",
       "      <th>would_recommend_pred</th>\n",
       "      <th>prediction_is_correct</th>\n",
       "      <th>user_correct_pred_cnt</th>\n",
       "      <th>user_rating_cnt</th>\n",
       "      <th>user_correct_pred_fraction</th>\n",
       "      <th>confidence</th>\n",
       "    </tr>\n",
       "  </thead>\n",
       "  <tbody>\n",
       "    <tr>\n",
       "      <th>2258068</th>\n",
       "      <td>44734772c453622a4eb917b0cf986030</td>\n",
       "      <td>1162543</td>\n",
       "      <td>5</td>\n",
       "      <td>4.128079</td>\n",
       "      <td>1</td>\n",
       "      <td>1</td>\n",
       "      <td>1</td>\n",
       "      <td>21</td>\n",
       "      <td>21</td>\n",
       "      <td>1.000000</td>\n",
       "      <td>0.896774</td>\n",
       "    </tr>\n",
       "    <tr>\n",
       "      <th>256969</th>\n",
       "      <td>57d04050a88c2f5b17be2d51dbf53ca1</td>\n",
       "      <td>17838859</td>\n",
       "      <td>4</td>\n",
       "      <td>4.063139</td>\n",
       "      <td>1</td>\n",
       "      <td>1</td>\n",
       "      <td>1</td>\n",
       "      <td>16</td>\n",
       "      <td>18</td>\n",
       "      <td>0.888889</td>\n",
       "      <td>0.814286</td>\n",
       "    </tr>\n",
       "    <tr>\n",
       "      <th>740646</th>\n",
       "      <td>2319c9ed57a6048e54cbf37c1527ca40</td>\n",
       "      <td>149267</td>\n",
       "      <td>5</td>\n",
       "      <td>3.968632</td>\n",
       "      <td>1</td>\n",
       "      <td>0</td>\n",
       "      <td>0</td>\n",
       "      <td>14</td>\n",
       "      <td>40</td>\n",
       "      <td>0.350000</td>\n",
       "      <td>0.416000</td>\n",
       "    </tr>\n",
       "    <tr>\n",
       "      <th>2511372</th>\n",
       "      <td>3a1ab829c0c911352a8f14f9cdc0fe4c</td>\n",
       "      <td>81167</td>\n",
       "      <td>5</td>\n",
       "      <td>4.114210</td>\n",
       "      <td>1</td>\n",
       "      <td>1</td>\n",
       "      <td>1</td>\n",
       "      <td>52</td>\n",
       "      <td>60</td>\n",
       "      <td>0.866667</td>\n",
       "      <td>0.840000</td>\n",
       "    </tr>\n",
       "    <tr>\n",
       "      <th>2042049</th>\n",
       "      <td>11787115f9614b248fe3322ba924e255</td>\n",
       "      <td>2366001</td>\n",
       "      <td>5</td>\n",
       "      <td>4.061298</td>\n",
       "      <td>1</td>\n",
       "      <td>1</td>\n",
       "      <td>1</td>\n",
       "      <td>8</td>\n",
       "      <td>9</td>\n",
       "      <td>0.888889</td>\n",
       "      <td>0.778947</td>\n",
       "    </tr>\n",
       "  </tbody>\n",
       "</table>\n",
       "</div>"
      ],
      "text/plain": [
       "                                  user_id   book_id  rating  rating_predicted  \\\n",
       "2258068  44734772c453622a4eb917b0cf986030   1162543       5          4.128079   \n",
       "256969   57d04050a88c2f5b17be2d51dbf53ca1  17838859       4          4.063139   \n",
       "740646   2319c9ed57a6048e54cbf37c1527ca40    149267       5          3.968632   \n",
       "2511372  3a1ab829c0c911352a8f14f9cdc0fe4c     81167       5          4.114210   \n",
       "2042049  11787115f9614b248fe3322ba924e255   2366001       5          4.061298   \n",
       "\n",
       "         would_recommend  would_recommend_pred  prediction_is_correct  \\\n",
       "2258068                1                     1                      1   \n",
       "256969                 1                     1                      1   \n",
       "740646                 1                     0                      0   \n",
       "2511372                1                     1                      1   \n",
       "2042049                1                     1                      1   \n",
       "\n",
       "         user_correct_pred_cnt  user_rating_cnt  user_correct_pred_fraction  \\\n",
       "2258068                     21               21                    1.000000   \n",
       "256969                      16               18                    0.888889   \n",
       "740646                      14               40                    0.350000   \n",
       "2511372                     52               60                    0.866667   \n",
       "2042049                      8                9                    0.888889   \n",
       "\n",
       "         confidence  \n",
       "2258068    0.896774  \n",
       "256969     0.814286  \n",
       "740646     0.416000  \n",
       "2511372    0.840000  \n",
       "2042049    0.778947  "
      ]
     },
     "execution_count": 6,
     "metadata": {},
     "output_type": "execute_result"
    }
   ],
   "source": [
    "propensity.train_data_fitted.sample(5)"
   ]
  },
  {
   "cell_type": "markdown",
   "id": "6874631a-6149-49b6-af10-55cde8684bde",
   "metadata": {},
   "source": [
    "### User confidence table"
   ]
  },
  {
   "cell_type": "code",
   "execution_count": 7,
   "id": "27d8e924-bfde-4b9a-98e8-27a2a4885216",
   "metadata": {},
   "outputs": [
    {
     "data": {
      "text/html": [
       "<div>\n",
       "<style scoped>\n",
       "    .dataframe tbody tr th:only-of-type {\n",
       "        vertical-align: middle;\n",
       "    }\n",
       "\n",
       "    .dataframe tbody tr th {\n",
       "        vertical-align: top;\n",
       "    }\n",
       "\n",
       "    .dataframe thead th {\n",
       "        text-align: right;\n",
       "    }\n",
       "</style>\n",
       "<table border=\"1\" class=\"dataframe\">\n",
       "  <thead>\n",
       "    <tr style=\"text-align: right;\">\n",
       "      <th></th>\n",
       "      <th>user_id</th>\n",
       "      <th>confidence</th>\n",
       "    </tr>\n",
       "  </thead>\n",
       "  <tbody>\n",
       "    <tr>\n",
       "      <th>687491</th>\n",
       "      <td>0bc9df0c42ce1adffb16900795241823</td>\n",
       "      <td>0.800000</td>\n",
       "    </tr>\n",
       "    <tr>\n",
       "      <th>676217</th>\n",
       "      <td>ecebda8a5ee51e5dabd01db91e17eabd</td>\n",
       "      <td>0.709091</td>\n",
       "    </tr>\n",
       "    <tr>\n",
       "      <th>1440110</th>\n",
       "      <td>e1dbbbf245202490d0ea4458c97b2713</td>\n",
       "      <td>0.811765</td>\n",
       "    </tr>\n",
       "    <tr>\n",
       "      <th>3075417</th>\n",
       "      <td>4a0f0ce7893f03b53215f9a8443fbcd8</td>\n",
       "      <td>0.709091</td>\n",
       "    </tr>\n",
       "    <tr>\n",
       "      <th>2878286</th>\n",
       "      <td>366f09037c8f4298219cec896403ddb8</td>\n",
       "      <td>0.600000</td>\n",
       "    </tr>\n",
       "  </tbody>\n",
       "</table>\n",
       "</div>"
      ],
      "text/plain": [
       "                                  user_id  confidence\n",
       "687491   0bc9df0c42ce1adffb16900795241823    0.800000\n",
       "676217   ecebda8a5ee51e5dabd01db91e17eabd    0.709091\n",
       "1440110  e1dbbbf245202490d0ea4458c97b2713    0.811765\n",
       "3075417  4a0f0ce7893f03b53215f9a8443fbcd8    0.709091\n",
       "2878286  366f09037c8f4298219cec896403ddb8    0.600000"
      ]
     },
     "execution_count": 7,
     "metadata": {},
     "output_type": "execute_result"
    }
   ],
   "source": [
    "propensity.user_confidence.sample(5)"
   ]
  },
  {
   "cell_type": "markdown",
   "id": "8f3705f9-4b60-4625-aa31-5d9a97731449",
   "metadata": {},
   "source": [
    "### Make a prediction"
   ]
  },
  {
   "cell_type": "code",
   "execution_count": 6,
   "id": "89e0ff0e-fff3-4553-838e-f2c54c28dd45",
   "metadata": {},
   "outputs": [
    {
     "name": "stdout",
     "output_type": "stream",
     "text": [
      "CPU times: user 61.5 ms, sys: 8.78 ms, total: 70.3 ms\n",
      "Wall time: 76.6 ms\n"
     ]
    },
    {
     "data": {
      "text/plain": [
       "(1, 0.7090909090909091)"
      ]
     },
     "execution_count": 6,
     "metadata": {},
     "output_type": "execute_result"
    }
   ],
   "source": [
    "%%time\n",
    "user_id, item_id = '8842281e1d1347389f2ab93d60773d4d', 76620\n",
    "res = propensity.infer_propensity_for_pair(user_id, item_id, verbose=False)\n",
    "res"
   ]
  },
  {
   "cell_type": "markdown",
   "id": "ee307587-e470-4260-9bab-287582313275",
   "metadata": {},
   "source": [
    "### Batch prediction: entire test set"
   ]
  },
  {
   "cell_type": "code",
   "execution_count": 10,
   "id": "b5768a61-e08c-4b66-83f5-11c7d5df0d2c",
   "metadata": {},
   "outputs": [
    {
     "name": "stdout",
     "output_type": "stream",
     "text": [
      "CPU times: user 5.26 s, sys: 291 ms, total: 5.55 s\n",
      "Wall time: 5.82 s\n"
     ]
    }
   ],
   "source": [
    "%%time\n",
    "res_df = propensity.infer_propensity_from_df(test_path, verbose=False)"
   ]
  },
  {
   "cell_type": "code",
   "execution_count": 11,
   "id": "66e0e6a5-8cce-411f-b9a9-2ea939616749",
   "metadata": {},
   "outputs": [
    {
     "data": {
      "text/html": [
       "<div>\n",
       "<style scoped>\n",
       "    .dataframe tbody tr th:only-of-type {\n",
       "        vertical-align: middle;\n",
       "    }\n",
       "\n",
       "    .dataframe tbody tr th {\n",
       "        vertical-align: top;\n",
       "    }\n",
       "\n",
       "    .dataframe thead th {\n",
       "        text-align: right;\n",
       "    }\n",
       "</style>\n",
       "<table border=\"1\" class=\"dataframe\">\n",
       "  <thead>\n",
       "    <tr style=\"text-align: right;\">\n",
       "      <th></th>\n",
       "      <th>user_id</th>\n",
       "      <th>book_id</th>\n",
       "      <th>would_recommend_pred</th>\n",
       "      <th>confidence</th>\n",
       "    </tr>\n",
       "  </thead>\n",
       "  <tbody>\n",
       "    <tr>\n",
       "      <th>59939</th>\n",
       "      <td>3eb791d5e2d4092fd869abb1e36f5526</td>\n",
       "      <td>16006945</td>\n",
       "      <td>1</td>\n",
       "      <td>0.821053</td>\n",
       "    </tr>\n",
       "    <tr>\n",
       "      <th>40555</th>\n",
       "      <td>fb87d7393306d9f86ee76a5a62cf76de</td>\n",
       "      <td>21942107</td>\n",
       "      <td>1</td>\n",
       "      <td>0.783333</td>\n",
       "    </tr>\n",
       "    <tr>\n",
       "      <th>246765</th>\n",
       "      <td>361c448eef97bbc1b96227cab3fdb5d0</td>\n",
       "      <td>769483</td>\n",
       "      <td>1</td>\n",
       "      <td>0.680000</td>\n",
       "    </tr>\n",
       "    <tr>\n",
       "      <th>287492</th>\n",
       "      <td>e36b4b82588fa6385405c254cba92533</td>\n",
       "      <td>16065004</td>\n",
       "      <td>0</td>\n",
       "      <td>0.504918</td>\n",
       "    </tr>\n",
       "    <tr>\n",
       "      <th>269627</th>\n",
       "      <td>9a37476b41edfb5c07874d33b3447b45</td>\n",
       "      <td>18138189</td>\n",
       "      <td>1</td>\n",
       "      <td>0.859459</td>\n",
       "    </tr>\n",
       "    <tr>\n",
       "      <th>280107</th>\n",
       "      <td>4960c0409d32e4c9df2eabf6fe9eafb3</td>\n",
       "      <td>29213435</td>\n",
       "      <td>0</td>\n",
       "      <td>0.556250</td>\n",
       "    </tr>\n",
       "    <tr>\n",
       "      <th>194962</th>\n",
       "      <td>8c85faabaaba7de7a6b34c2c11f105cb</td>\n",
       "      <td>24464141</td>\n",
       "      <td>0</td>\n",
       "      <td>0.678947</td>\n",
       "    </tr>\n",
       "    <tr>\n",
       "      <th>44001</th>\n",
       "      <td>b9b56784330b1a4d8b72548ded30b31b</td>\n",
       "      <td>20821111</td>\n",
       "      <td>1</td>\n",
       "      <td>0.684615</td>\n",
       "    </tr>\n",
       "    <tr>\n",
       "      <th>34951</th>\n",
       "      <td>5179cfb050c2273623aef110fd0932a3</td>\n",
       "      <td>6582637</td>\n",
       "      <td>1</td>\n",
       "      <td>0.964571</td>\n",
       "    </tr>\n",
       "    <tr>\n",
       "      <th>68857</th>\n",
       "      <td>577a86412918bd00235ef4794187d0f2</td>\n",
       "      <td>2319370</td>\n",
       "      <td>0</td>\n",
       "      <td>0.386735</td>\n",
       "    </tr>\n",
       "  </tbody>\n",
       "</table>\n",
       "</div>"
      ],
      "text/plain": [
       "                                 user_id   book_id  would_recommend_pred  \\\n",
       "59939   3eb791d5e2d4092fd869abb1e36f5526  16006945                     1   \n",
       "40555   fb87d7393306d9f86ee76a5a62cf76de  21942107                     1   \n",
       "246765  361c448eef97bbc1b96227cab3fdb5d0    769483                     1   \n",
       "287492  e36b4b82588fa6385405c254cba92533  16065004                     0   \n",
       "269627  9a37476b41edfb5c07874d33b3447b45  18138189                     1   \n",
       "280107  4960c0409d32e4c9df2eabf6fe9eafb3  29213435                     0   \n",
       "194962  8c85faabaaba7de7a6b34c2c11f105cb  24464141                     0   \n",
       "44001   b9b56784330b1a4d8b72548ded30b31b  20821111                     1   \n",
       "34951   5179cfb050c2273623aef110fd0932a3   6582637                     1   \n",
       "68857   577a86412918bd00235ef4794187d0f2   2319370                     0   \n",
       "\n",
       "        confidence  \n",
       "59939     0.821053  \n",
       "40555     0.783333  \n",
       "246765    0.680000  \n",
       "287492    0.504918  \n",
       "269627    0.859459  \n",
       "280107    0.556250  \n",
       "194962    0.678947  \n",
       "44001     0.684615  \n",
       "34951     0.964571  \n",
       "68857     0.386735  "
      ]
     },
     "execution_count": 11,
     "metadata": {},
     "output_type": "execute_result"
    }
   ],
   "source": [
    "res_df.sample(10)"
   ]
  }
 ],
 "metadata": {
  "kernelspec": {
   "display_name": "Python 3 (ipykernel)",
   "language": "python",
   "name": "python3"
  },
  "language_info": {
   "codemirror_mode": {
    "name": "ipython",
    "version": 3
   },
   "file_extension": ".py",
   "mimetype": "text/x-python",
   "name": "python",
   "nbconvert_exporter": "python",
   "pygments_lexer": "ipython3",
   "version": "3.9.13"
  }
 },
 "nbformat": 4,
 "nbformat_minor": 5
}
