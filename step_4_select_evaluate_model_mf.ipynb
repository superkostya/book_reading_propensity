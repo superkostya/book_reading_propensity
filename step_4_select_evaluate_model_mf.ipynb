{
 "cells": [
  {
   "cell_type": "markdown",
   "id": "ccf2c69d-1755-4ad3-a5a9-4dd52a447168",
   "metadata": {},
   "source": [
    "# Book Reading Propensity as a Recommender System: \n",
    "# Collaborative Filtering (CF) & Matrix Factorization (MF)"
   ]
  },
  {
   "cell_type": "code",
   "execution_count": 23,
   "id": "e995e6c8-bcc6-4257-b589-ef0d819f9db8",
   "metadata": {},
   "outputs": [],
   "source": [
    "import pandas as pd\n",
    "import numpy as np\n",
    "from scipy import sparse\n",
    "import os\n",
    "import time\n",
    "\n",
    "from statistics import mean\n",
    "\n",
    "from surprise import Reader, Dataset, SVD, SVDpp, BaselineOnly, NMF, accuracy\n",
    "from surprise.dataset import DatasetAutoFolds\n",
    "from surprise.model_selection import train_test_split, GridSearchCV, PredefinedKFold\n",
    "\n",
    "from sklearn.model_selection import train_test_split as skl_train_test_split\n",
    "\n",
    "from propensity_utils import *\n",
    "\n",
    "import matplotlib.pyplot as plt\n",
    "\n",
    "%matplotlib inline"
   ]
  },
  {
   "cell_type": "code",
   "execution_count": 2,
   "id": "81796854-2b68-41b1-ad82-c430b4def3a3",
   "metadata": {},
   "outputs": [],
   "source": [
    "random_state = 42"
   ]
  },
  {
   "cell_type": "markdown",
   "id": "9897f13f-5e0f-468f-a52f-f4c647c59200",
   "metadata": {},
   "source": [
    "## Read the Train/Validation Data"
   ]
  },
  {
   "cell_type": "markdown",
   "id": "d4275e61-2d55-4fa4-8b25-16ce76e39248",
   "metadata": {},
   "source": [
    "## Matrix Factorization with the Scikit Suprise: Model Selection\n",
    "References:\n",
    " * https://surpriselib.com/\n",
    " * https://surprise.readthedocs.io/en/stable/index.html"
   ]
  },
  {
   "cell_type": "markdown",
   "id": "a0f0ae8e-718d-4e44-92cd-bfae7095d0f2",
   "metadata": {},
   "source": [
    "### Building the Train Dataset"
   ]
  },
  {
   "cell_type": "code",
   "execution_count": 11,
   "id": "c602746a-0241-4bca-b7af-b393d26308fe",
   "metadata": {},
   "outputs": [],
   "source": [
    "train_val_path = './data/goodreads_2016_train_val.csv'\n",
    "train = DatasetBuilder(train_val_path)"
   ]
  },
  {
   "cell_type": "markdown",
   "id": "8d34a9b0-2c20-475c-9071-5b98a0329315",
   "metadata": {},
   "source": [
    "### Grid Search: SVD"
   ]
  },
  {
   "cell_type": "code",
   "execution_count": 33,
   "id": "0957d64f-4062-452e-9b40-83896bc80856",
   "metadata": {},
   "outputs": [],
   "source": [
    "# Full Search Grid:\n",
    "# Note: In the spirit of rapid incremental improvements, \n",
    "# we break down the search grid into smaller subgrids.\n",
    "# The next two cells illustrate one of many such experiments\n",
    "\n",
    "svd_param_grid_full = {\n",
    "    \"n_factors\": [32, 64, 128],\n",
    "    \"n_epochs\": [10, 20, 50, 100],\n",
    "    \"lr_all\": [0.002, 0.005],\n",
    "    \"reg_all\": [0.1, 0.5]\n",
    "}"
   ]
  },
  {
   "cell_type": "code",
   "execution_count": 55,
   "id": "ed4b8eb7-6482-416c-9635-b5a7591adf15",
   "metadata": {},
   "outputs": [
    {
     "name": "stderr",
     "output_type": "stream",
     "text": [
      "[Parallel(n_jobs=3)]: Using backend LokyBackend with 3 concurrent workers.\n"
     ]
    },
    {
     "name": "stdout",
     "output_type": "stream",
     "text": [
      "**************************************************\n",
      "Best RMSE score, with hyperparameters\n",
      "1.1549409149407357\n",
      "{'n_factors': 128, 'n_epochs': 100, 'lr_all': 0.005, 'reg_all': 0.1}\n",
      "**************************************************\n",
      "Best MAE score, with hyperparameters\n",
      "0.8318418249949565\n",
      "{'n_factors': 128, 'n_epochs': 100, 'lr_all': 0.005, 'reg_all': 0.1}\n",
      "**************************************************\n",
      "Best FCP score, with hyperparameters\n",
      "0.6187826379436273\n",
      "{'n_factors': 128, 'n_epochs': 100, 'lr_all': 0.005, 'reg_all': 0.1}\n",
      "**************************************************\n",
      "CPU times: user 50 s, sys: 1min 20s, total: 2min 10s\n",
      "Wall time: 11min 2s\n"
     ]
    },
    {
     "name": "stderr",
     "output_type": "stream",
     "text": [
      "[Parallel(n_jobs=3)]: Done   6 out of   6 | elapsed: 10.3min finished\n"
     ]
    }
   ],
   "source": [
    "%%time\n",
    "svd_param_grid = {\n",
    "    \"n_factors\": [128],\n",
    "    \"n_epochs\": [50, 100],\n",
    "    \"lr_all\": [0.005],\n",
    "    \"reg_all\": [0.1]\n",
    "}\n",
    "\n",
    "gs = GridSearchCV(SVD, svd_param_grid, measures=[\"rmse\", \"mae\", \"fcp\"], cv=3, n_jobs=3, joblib_verbose=1)\n",
    "\n",
    "gs.fit(train.dataset)\n",
    "print('*'*50)\n",
    "print('Best RMSE score, with hyperparameters')\n",
    "print(gs.best_score[\"rmse\"])\n",
    "print(gs.best_params[\"rmse\"])\n",
    "print('*'*50)\n",
    "print('Best MAE score, with hyperparameters')\n",
    "print(gs.best_score[\"mae\"])\n",
    "print(gs.best_params[\"mae\"])\n",
    "print('*'*50)\n",
    "print('Best FCP score, with hyperparameters')\n",
    "print(gs.best_score[\"fcp\"])\n",
    "print(gs.best_params[\"fcp\"])\n",
    "print('*'*50)"
   ]
  },
  {
   "cell_type": "code",
   "execution_count": 8,
   "id": "f2f48c86-a86c-46fc-b6f9-8a40dc89420a",
   "metadata": {},
   "outputs": [],
   "source": [
    "# gs.cv_results"
   ]
  },
  {
   "cell_type": "markdown",
   "id": "2a5a533a-4717-4f40-bd5b-cee8858cbdf5",
   "metadata": {},
   "source": [
    "### Grid Search: NMF"
   ]
  },
  {
   "cell_type": "code",
   "execution_count": 33,
   "id": "a94b2871-abbf-4c78-a925-a9574d7f6ee7",
   "metadata": {},
   "outputs": [],
   "source": [
    "# Full Search Grid:\n",
    "# Note: In the spirit of rapid incremental improvements, \n",
    "# we break down the search grid into smaller subgrids.\n",
    "# The next two cells illustrate one of many such experiments\n",
    "\n",
    "nmf_param_grid_full = {\n",
    "    \"n_factors\": [32, 64, 128],\n",
    "    \"n_epochs\": [10, 20, 50, 100],\n",
    "    \"biased\": [False, True]\n",
    "}"
   ]
  },
  {
   "cell_type": "code",
   "execution_count": 6,
   "id": "bb55b82c-b4be-4048-a093-b8566033df83",
   "metadata": {},
   "outputs": [
    {
     "name": "stderr",
     "output_type": "stream",
     "text": [
      "[Parallel(n_jobs=3)]: Using backend LokyBackend with 3 concurrent workers.\n"
     ]
    },
    {
     "name": "stdout",
     "output_type": "stream",
     "text": [
      "**************************************************\n",
      "Best RMSE score, with hyperparameters\n",
      "1.3348718206119399\n",
      "{'n_factors': 128, 'n_epochs': 10, 'biased': False}\n",
      "**************************************************\n",
      "Best MAE score, with hyperparameters\n",
      "0.9369168304480354\n",
      "{'n_factors': 128, 'n_epochs': 10, 'biased': False}\n",
      "**************************************************\n",
      "Best FCP score, with hyperparameters\n",
      "0.3638301603132758\n",
      "{'n_factors': 128, 'n_epochs': 10, 'biased': True}\n",
      "**************************************************\n",
      "CPU times: user 41.7 s, sys: 36.7 s, total: 1min 18s\n",
      "Wall time: 11min 19s\n"
     ]
    },
    {
     "name": "stderr",
     "output_type": "stream",
     "text": [
      "[Parallel(n_jobs=3)]: Done   6 out of   6 | elapsed: 10.8min finished\n"
     ]
    }
   ],
   "source": [
    "%%time\n",
    "nmf_param_grid = {\n",
    "    \"n_factors\": [128],\n",
    "    \"n_epochs\": [10],\n",
    "    \"biased\": [False, True]\n",
    "}\n",
    "\n",
    "gs = GridSearchCV(NMF, nmf_param_grid, measures=[\"rmse\", \"mae\", \"fcp\"], cv=3, n_jobs=3, joblib_verbose=1)\n",
    "\n",
    "gs.fit(train.dataset)\n",
    "print('*'*50)\n",
    "print('Best RMSE score, with hyperparameters')\n",
    "print(gs.best_score[\"rmse\"])\n",
    "print(gs.best_params[\"rmse\"])\n",
    "print('*'*50)\n",
    "print('Best MAE score, with hyperparameters')\n",
    "print(gs.best_score[\"mae\"])\n",
    "print(gs.best_params[\"mae\"])\n",
    "print('*'*50)\n",
    "print('Best FCP score, with hyperparameters')\n",
    "print(gs.best_score[\"fcp\"])\n",
    "print(gs.best_params[\"fcp\"])\n",
    "print('*'*50)"
   ]
  },
  {
   "cell_type": "code",
   "execution_count": 7,
   "id": "8ea83acf-223a-4947-bfe7-8cf068cbb230",
   "metadata": {},
   "outputs": [
    {
     "data": {
      "text/plain": [
       "{'split0_test_rmse': array([1.33480871, 1.91178115]),\n",
       " 'split1_test_rmse': array([1.33507148, 1.92561447]),\n",
       " 'split2_test_rmse': array([1.33473527, 1.94094462]),\n",
       " 'mean_test_rmse': array([1.33487182, 1.92611342]),\n",
       " 'std_test_rmse': array([0.00014433, 0.01191116]),\n",
       " 'rank_test_rmse': array([1, 2]),\n",
       " 'split0_test_mae': array([0.93674739, 1.45747351]),\n",
       " 'split1_test_mae': array([0.93707775, 1.47037776]),\n",
       " 'split2_test_mae': array([0.93692536, 1.49048659]),\n",
       " 'mean_test_mae': array([0.93691683, 1.47277929]),\n",
       " 'std_test_mae': array([0.000135  , 0.01358409]),\n",
       " 'rank_test_mae': array([1, 2]),\n",
       " 'split0_test_fcp': array([0.33495661, 0.37628206]),\n",
       " 'split1_test_fcp': array([0.33938084, 0.35712743]),\n",
       " 'split2_test_fcp': array([0.32837866, 0.358081  ]),\n",
       " 'mean_test_fcp': array([0.33423871, 0.36383016]),\n",
       " 'std_test_fcp': array([0.00452022, 0.00881342]),\n",
       " 'rank_test_fcp': array([2, 1]),\n",
       " 'mean_fit_time': array([189.97589628, 252.0327901 ]),\n",
       " 'std_fit_time': array([ 5.72445159, 20.29270348]),\n",
       " 'mean_test_time': array([41.68705455, 82.05192995]),\n",
       " 'std_test_time': array([4.41703837, 1.47089722]),\n",
       " 'params': [{'n_factors': 128, 'n_epochs': 10, 'biased': False},\n",
       "  {'n_factors': 128, 'n_epochs': 10, 'biased': True}],\n",
       " 'param_n_factors': [128, 128],\n",
       " 'param_n_epochs': [10, 10],\n",
       " 'param_biased': [False, True]}"
      ]
     },
     "execution_count": 7,
     "metadata": {},
     "output_type": "execute_result"
    }
   ],
   "source": [
    "gs.cv_results"
   ]
  },
  {
   "cell_type": "markdown",
   "id": "37b7f915-74cb-42d0-9c7b-076335cc70dd",
   "metadata": {},
   "source": [
    "### Evaluate & Compare the Selected MF Algorithms\n",
    " * Each type of the CF algorithms is assumed to have been already optimized via the grid search cross-validation procedure.\n",
    " * Now we compare these optimized algorithms against each other."
   ]
  },
  {
   "cell_type": "code",
   "execution_count": 5,
   "id": "14cbb733-3839-4275-97b3-0c39410462eb",
   "metadata": {},
   "outputs": [
    {
     "name": "stdout",
     "output_type": "stream",
     "text": [
      "n_factors = 128\n",
      "**************************************************\n",
      "RMSE: 0.7871\n",
      "MAE:  0.6010\n",
      "FCP:  0.6133\n",
      "-----------\n",
      "SVD\n",
      "-----------\n",
      "      Metrics - RMSE: 0.7871062836643817, MAE: 0.6010177803199526, FCP: 0.6133032823338325\n",
      "-----------\n",
      "RMSE: 0.8314\n",
      "MAE:  0.6167\n",
      "FCP:  0.6152\n",
      "-----------\n",
      "NMF\n",
      "-----------\n",
      "      Metrics - RMSE: 0.83139702193419, MAE: 0.6166544099703551, FCP: 0.6151914220918498\n",
      "-----------\n",
      "Estimating biases using als...\n",
      "RMSE: 0.8157\n",
      "MAE:  0.6339\n",
      "FCP:  0.5873\n",
      "-----------\n",
      "BaselineOnly\n",
      "-----------\n",
      "      Metrics - RMSE: 0.8156643711387394, MAE: 0.6339487358014173, FCP: 0.58726104542583\n",
      "-----------\n",
      "**************************************************\n",
      "CPU times: user 10min 42s, sys: 2min 40s, total: 13min 22s\n",
      "Wall time: 15min 3s\n"
     ]
    }
   ],
   "source": [
    "%%time\n",
    "train_eval_run = TrainEvalAlgos(train)\n",
    "\n",
    "n_factors = 128\n",
    "print(f'n_factors = {n_factors}')\n",
    "print('*'*50)\n",
    "svd = SVD(**{'n_factors': n_factors, 'n_epochs': 100, \n",
    "             'lr_all': 0.005, 'reg_all': 0.1,\n",
    "             'random_state':random_state})\n",
    "train_eval_run.addAlgorithm(svd)\n",
    "\n",
    "nmf = NMF(**{'n_factors': n_factors, 'n_epochs': 100, \n",
    "             'biased': False,\n",
    "             'random_state':random_state})\n",
    "train_eval_run.addAlgorithm(nmf)\n",
    "\n",
    "bsl_options = {'method': 'als',\n",
    "               'n_epochs': 10,\n",
    "               'reg_u': 15,\n",
    "               'reg_i': 10\n",
    "               }\n",
    "als = BaselineOnly(bsl_options=bsl_options)\n",
    "train_eval_run.addAlgorithm(als)\n",
    "\n",
    "train_eval_run.train_and_evaluate()\n",
    "print('*'*50)"
   ]
  },
  {
   "cell_type": "code",
   "execution_count": 4,
   "id": "56ed6e60-95ae-4228-88ac-586080b5d0a0",
   "metadata": {},
   "outputs": [],
   "source": [
    "del train_eval_run\n",
    "del train"
   ]
  },
  {
   "cell_type": "markdown",
   "id": "1e807e92-dc99-4a7f-9245-4bcd1ef90778",
   "metadata": {},
   "source": [
    "### Notes on the Model Evaluation & Comparison\n",
    " * The SVD (Singular Value Decomposition) algorithm proved to be marginally better than the NMF (Non-negative Matrix Factorization), when evaluated with several accuracy metrics: RMSE (root mean square error), MAE (mean absolute error), and FCP (Fraction of Concordant Pairs).\n",
    " * SVD also proved to be much faster to train in comparison to the NMF, while using the same number of epochs.\n",
    " * It is worth noting that the \"Baseline Only\" algorithm (i.e., an algorithm predicting the baseline estimate for given user and item: global mean, adjusted with user/item biases) was not too far behind. This suggests that perhaps our \"perfect model\" would benefit from a hybrid approach, when the ranks that capture the user-item interaction, are accompanied by additional, \"external\" features (e.g., complementary data about a user, or an item)."
   ]
  },
  {
   "cell_type": "markdown",
   "id": "f0c834e6-fdd3-4220-b85c-21b04eb3efda",
   "metadata": {},
   "source": [
    "## Estimate the Confidence of the Propensity Model's Predictions\n",
    "\n",
    " * Our trained recommender can be easily converted into a propensity model, which is in essense, a binary classifier: it would ultimately generate a \"yes or no\" answer when asked if a reader X would like a book Y.\n",
    " * We define the confidence for the results of such propensity model as a probability that the model will make a correct prediction for any randomly selected user-item pair.\n",
    " * If the validation set size is $n$ and the number of correct predictions is $n_c$, then a point estimate of the the confidence $C$ is $$\\hat{C} = \\frac{n_c}{n}$$\n",
    " * We can estimate the value of the confidence on the train set, using the model we trained, which is a common practice for recommender systems. In order to minimize a bias of such estimate, we can use a K-fold cross-validation procedure. \n",
    " \n",
    "### K-Fold Cross-Validation Procedure\n",
    "\n",
    "1. Get the Dataset as a Pandas DF\n",
    "2. FOR-loop: K iterations where we reshuffle the data, and split it into train/validation sets (folds)\n",
    "    1. Convert the train/validation sets into Surprise datasets\n",
    "    2. Train the model on the train set\n",
    "    3. Predict the ratings for the validation set\n",
    "    4. Convert the rating column into a binary classification (1/0 = \"yes/no\") column\n",
    "    5. Esimate the confidence as a probability of a correct prediction"
   ]
  },
  {
   "cell_type": "code",
   "execution_count": 7,
   "id": "ff87ed16-c847-4982-a5ba-37d207c50374",
   "metadata": {},
   "outputs": [
    {
     "name": "stdout",
     "output_type": "stream",
     "text": [
      "Data size: 3,491,950.\n"
     ]
    },
    {
     "data": {
      "text/html": [
       "<div>\n",
       "<style scoped>\n",
       "    .dataframe tbody tr th:only-of-type {\n",
       "        vertical-align: middle;\n",
       "    }\n",
       "\n",
       "    .dataframe tbody tr th {\n",
       "        vertical-align: top;\n",
       "    }\n",
       "\n",
       "    .dataframe thead th {\n",
       "        text-align: right;\n",
       "    }\n",
       "</style>\n",
       "<table border=\"1\" class=\"dataframe\">\n",
       "  <thead>\n",
       "    <tr style=\"text-align: right;\">\n",
       "      <th></th>\n",
       "      <th>user_id</th>\n",
       "      <th>book_id</th>\n",
       "      <th>rating</th>\n",
       "    </tr>\n",
       "  </thead>\n",
       "  <tbody>\n",
       "    <tr>\n",
       "      <th>0</th>\n",
       "      <td>8842281e1d1347389f2ab93d60773d4d</td>\n",
       "      <td>10673579</td>\n",
       "      <td>5</td>\n",
       "    </tr>\n",
       "    <tr>\n",
       "      <th>1</th>\n",
       "      <td>7504b2aee1ecb5b2872d3da381c6c91e</td>\n",
       "      <td>29069989</td>\n",
       "      <td>2</td>\n",
       "    </tr>\n",
       "    <tr>\n",
       "      <th>2</th>\n",
       "      <td>7504b2aee1ecb5b2872d3da381c6c91e</td>\n",
       "      <td>8882815</td>\n",
       "      <td>3</td>\n",
       "    </tr>\n",
       "    <tr>\n",
       "      <th>3</th>\n",
       "      <td>7504b2aee1ecb5b2872d3da381c6c91e</td>\n",
       "      <td>6693332</td>\n",
       "      <td>4</td>\n",
       "    </tr>\n",
       "    <tr>\n",
       "      <th>4</th>\n",
       "      <td>7504b2aee1ecb5b2872d3da381c6c91e</td>\n",
       "      <td>4588949</td>\n",
       "      <td>4</td>\n",
       "    </tr>\n",
       "  </tbody>\n",
       "</table>\n",
       "</div>"
      ],
      "text/plain": [
       "                            user_id   book_id  rating\n",
       "0  8842281e1d1347389f2ab93d60773d4d  10673579       5\n",
       "1  7504b2aee1ecb5b2872d3da381c6c91e  29069989       2\n",
       "2  7504b2aee1ecb5b2872d3da381c6c91e   8882815       3\n",
       "3  7504b2aee1ecb5b2872d3da381c6c91e   6693332       4\n",
       "4  7504b2aee1ecb5b2872d3da381c6c91e   4588949       4"
      ]
     },
     "execution_count": 7,
     "metadata": {},
     "output_type": "execute_result"
    }
   ],
   "source": [
    "df_train_val = pd.read_csv(train_val_path)\n",
    "print(f'Data size: {df_train_val.shape[0]: >8,d}.')\n",
    "df_train_val.head()"
   ]
  },
  {
   "cell_type": "code",
   "execution_count": 25,
   "id": "c27ebd12-3b99-427d-82fd-5f68b22a9f9c",
   "metadata": {},
   "outputs": [
    {
     "name": "stdout",
     "output_type": "stream",
     "text": [
      "Fold  1: C = 0.69473. Time elapsed:  0.72 minutes\n",
      "Fold  2: C = 0.69440. Time elapsed:  0.81 minutes\n",
      "Fold  3: C = 0.69577. Time elapsed:  0.79 minutes\n",
      "Fold  4: C = 0.69434. Time elapsed:  0.83 minutes\n",
      "Fold  5: C = 0.69409. Time elapsed:  0.83 minutes\n",
      "Fold  6: C = 0.69375. Time elapsed:  0.78 minutes\n",
      "Fold  7: C = 0.69421. Time elapsed:  0.86 minutes\n",
      "Fold  8: C = 0.69440. Time elapsed:  1.51 minutes\n",
      "Fold  9: C = 0.69350. Time elapsed:  1.39 minutes\n",
      "Fold 10: C = 0.69334. Time elapsed:  0.92 minutes\n",
      "************************************************************\n",
      "Estimated Confidence (on a 10-fold CV): 0.69\n",
      "************************************************************\n",
      "CPU times: user 6min 53s, sys: 1min 37s, total: 8min 30s\n",
      "Wall time: 9min 27s\n"
     ]
    }
   ],
   "source": [
    "%%time\n",
    "\n",
    "# Number of cross-validation folds\n",
    "K = 10\n",
    "# MF model parameters\n",
    "n_factors = 128\n",
    "n_epochs = 10\n",
    "\n",
    "confidence_estimates = []\n",
    "\n",
    "reader = Reader(rating_scale=(1, 5))\n",
    "\n",
    "for k in range(1,K+1):\n",
    "    start_time = time.time()\n",
    "    # Shuffle & Split the Data\n",
    "    df_train_k, df_val_k = skl_train_test_split(df_train_val, test_size=0.2, random_state=random_state+k)\n",
    "    # Create a Surprise Trainset\n",
    "    train = Dataset.load_from_df(df_train_k[['user_id', 'book_id', 'rating']], reader).build_full_trainset()\n",
    "    # Train the MF model\n",
    "    algo = SVD(**{'n_factors': n_factors, 'n_epochs': n_epochs, 'lr_all': 0.005, 'reg_all': 0.1})\n",
    "    algo.fit(train)\n",
    "    # Predict the ratings for the validation set\n",
    "    df_val_k['rating_predicted'] = df_val_k.apply(lambda x: algo.predict(x['user_id'], \n",
    "                                                                  x.book_id, \n",
    "                                                                  r_ui=x.rating, \n",
    "                                                                  verbose=False).est, axis=1)\n",
    "    # Convert the rating column into a binary classification (1/0 = \"yes/no\") column\n",
    "    df_val_k['would_recommend'] = df_val_k['rating'].apply(lambda x: 1 if x >= 4 else 0)\n",
    "    df_val_k['would_recommend_pred'] = df_val_k['rating_predicted'].apply(lambda x: 1 if x >= 4 else 0)\n",
    "    # Make a point esimate for the confidence as a probability of a correct prediction\n",
    "    conf = df_val_k[df_val_k['would_recommend_pred'] == df_val_k['would_recommend']]['rating'].\\\n",
    "                count()/df_val_k.shape[0]\n",
    "    confidence_estimates.append(conf)\n",
    "    time_elapsed = time.time() - start_time\n",
    "    print(f'Fold {k:>2d}: C = {conf:.5f}. Time elapsed: {time_elapsed/60:>5.2f} minutes')\n",
    "    del df_train_k, df_val_k\n",
    "\n",
    "confidence_on_train = mean(confidence_estimates)\n",
    "print('*'*60)\n",
    "print(f'Estimated Confidence (on a {k}-fold CV): {confidence_on_train:.2f}')\n",
    "print('*'*60)\n"
   ]
  },
  {
   "cell_type": "code",
   "execution_count": null,
   "id": "41c8d9d6-86c4-462e-828e-6ae853800f6a",
   "metadata": {},
   "outputs": [],
   "source": []
  },
  {
   "cell_type": "markdown",
   "id": "85d04035-2ef8-4514-88f4-ae80fa8a5221",
   "metadata": {},
   "source": [
    "## Train & Evaluate a Propensity Model"
   ]
  },
  {
   "cell_type": "code",
   "execution_count": 25,
   "id": "1e26c965-ac47-4ecc-82b0-fe41ab7976bd",
   "metadata": {},
   "outputs": [],
   "source": [
    "# reader = Reader(rating_scale=(1, 5))\n",
    "# ratings = pd.read_csv(train_val_path)\n",
    "# train = Dataset.load_from_df(ratings[['user_id', 'book_id', 'rating']], reader).build_full_trainset()\n",
    "# del ratings\n",
    "# # train.df.head()"
   ]
  },
  {
   "cell_type": "code",
   "execution_count": 26,
   "id": "8e807563-ccfa-4a35-a564-08877fe570cc",
   "metadata": {},
   "outputs": [
    {
     "data": {
      "text/plain": [
       "<surprise.prediction_algorithms.matrix_factorization.SVD at 0x7fce0478b280>"
      ]
     },
     "execution_count": 26,
     "metadata": {},
     "output_type": "execute_result"
    }
   ],
   "source": [
    "# n_factors = 128\n",
    "# n_epochs = 100\n",
    "# svd = SVD(**{'n_factors': n_factors, 'n_epochs': n_epochs, 'lr_all': 0.005, 'reg_all': 0.1})\n",
    "# svd.fit(train)"
   ]
  },
  {
   "cell_type": "markdown",
   "id": "16d956cb-3bf1-44c2-bc38-b7b62af26c6e",
   "metadata": {},
   "source": [
    "## Inference\n",
    "\n",
    " * A quote from the assignment: \"*The input for the model will be (user_id, item_id) with other feature data and the output will be (positive or negative, confidence value)*\"\n",
    " * __Propencity model and \"cold starts\":__\n",
    "     * Whenever both the __user and the item are \"known\"__ (i.e., previously observed), we use previously selected model that showed the best performance on the train set.\n",
    "     * Whenever we encounter a __\"cold start\" case (a user and/or item is new, previously unobserved)__, we will use the __baseline model__, i.e. an average rating, with corrections for a user/item bias (if we happen to have that data).\n",
    " * __Estimating the confidence:__ \n",
    "     * We can use the accuracy of the binary (\"positive/negative\") predictions on the train set, as an estimate of the confidence\n",
    "     * As an incremental improvement, we can adjust the confidence based on the number of ratings provided by the user (the more we know about the user's preferences, the more accurately we can make a recommendation) "
   ]
  },
  {
   "cell_type": "code",
   "execution_count": 35,
   "id": "763fe65a-5330-42be-9f9b-92b803a424c2",
   "metadata": {},
   "outputs": [
    {
     "name": "stdout",
     "output_type": "stream",
     "text": [
      "RMSE: 0.8599\n",
      "MAE:  0.6681\n",
      "FCP:  0.5855\n"
     ]
    }
   ],
   "source": [
    "n_factors = 128\n",
    "n_epochs = 100\n",
    "\n",
    "reader = Reader(line_format=\"user item rating\", sep=\",\", skip_lines=1, rating_scale=(1, 5))\n",
    "\n",
    "# folds_files is a list of tuples containing file paths:\n",
    "train_file = train_val_path\n",
    "test_file = test_path\n",
    "folds_files = [(train_file, test_file) ]\n",
    "\n",
    "data = Dataset.load_from_folds(folds_files, reader=reader)\n",
    "pkf = PredefinedKFold()\n",
    "\n",
    "for trainset, testset in pkf.split(data):\n",
    "\n",
    "    # train and test algorithm.\n",
    "    algo = SVD(**{'n_factors': n_factors, 'n_epochs': n_epochs, \n",
    "                  'lr_all': 0.005, 'reg_all': 0.1, \n",
    "                  'random_state':random_state})\n",
    "    \n",
    "    algo.fit(trainset)\n",
    "    predictions = svd.test(testset)\n",
    "\n",
    "    # Compute and print Root Mean Squared Error\n",
    "    accuracy.rmse(predictions, verbose=True)\n",
    "    accuracy.mae(predictions, verbose=True)\n",
    "    accuracy.fcp(predictions, verbose=True)"
   ]
  },
  {
   "cell_type": "markdown",
   "id": "e0f9defb-7a98-4a17-9af0-7254d7f11209",
   "metadata": {},
   "source": [
    "### Read the Test Set"
   ]
  },
  {
   "cell_type": "code",
   "execution_count": 36,
   "id": "e61f911a-64be-4760-a081-0f9885793656",
   "metadata": {},
   "outputs": [
    {
     "name": "stdout",
     "output_type": "stream",
     "text": [
      "Data size:  321,965.\n"
     ]
    },
    {
     "data": {
      "text/html": [
       "<div>\n",
       "<style scoped>\n",
       "    .dataframe tbody tr th:only-of-type {\n",
       "        vertical-align: middle;\n",
       "    }\n",
       "\n",
       "    .dataframe tbody tr th {\n",
       "        vertical-align: top;\n",
       "    }\n",
       "\n",
       "    .dataframe thead th {\n",
       "        text-align: right;\n",
       "    }\n",
       "</style>\n",
       "<table border=\"1\" class=\"dataframe\">\n",
       "  <thead>\n",
       "    <tr style=\"text-align: right;\">\n",
       "      <th></th>\n",
       "      <th>user_id</th>\n",
       "      <th>book_id</th>\n",
       "      <th>rating</th>\n",
       "    </tr>\n",
       "  </thead>\n",
       "  <tbody>\n",
       "    <tr>\n",
       "      <th>0</th>\n",
       "      <td>8842281e1d1347389f2ab93d60773d4d</td>\n",
       "      <td>29058155</td>\n",
       "      <td>3</td>\n",
       "    </tr>\n",
       "    <tr>\n",
       "      <th>1</th>\n",
       "      <td>8842281e1d1347389f2ab93d60773d4d</td>\n",
       "      <td>76620</td>\n",
       "      <td>5</td>\n",
       "    </tr>\n",
       "    <tr>\n",
       "      <th>2</th>\n",
       "      <td>01ec1a320ffded6b2dd47833f2c8e4fb</td>\n",
       "      <td>30853358</td>\n",
       "      <td>5</td>\n",
       "    </tr>\n",
       "    <tr>\n",
       "      <th>3</th>\n",
       "      <td>4b3636a043e5c99fa27ac897ccfa1151</td>\n",
       "      <td>34084</td>\n",
       "      <td>4</td>\n",
       "    </tr>\n",
       "    <tr>\n",
       "      <th>4</th>\n",
       "      <td>afc070543f19028dc7e7f084a0079f72</td>\n",
       "      <td>18131</td>\n",
       "      <td>5</td>\n",
       "    </tr>\n",
       "  </tbody>\n",
       "</table>\n",
       "</div>"
      ],
      "text/plain": [
       "                            user_id   book_id  rating\n",
       "0  8842281e1d1347389f2ab93d60773d4d  29058155       3\n",
       "1  8842281e1d1347389f2ab93d60773d4d     76620       5\n",
       "2  01ec1a320ffded6b2dd47833f2c8e4fb  30853358       5\n",
       "3  4b3636a043e5c99fa27ac897ccfa1151     34084       4\n",
       "4  afc070543f19028dc7e7f084a0079f72     18131       5"
      ]
     },
     "execution_count": 36,
     "metadata": {},
     "output_type": "execute_result"
    }
   ],
   "source": [
    "test_path = './data/goodreads_2016_test.csv'\n",
    "\n",
    "df_test = pd.read_csv(test_path)\n",
    "print(f'Data size: {df_test.shape[0]: >8,d}.')\n",
    "df_test.head()"
   ]
  },
  {
   "cell_type": "markdown",
   "id": "c09c5085-bd03-4e48-976a-ba731a341b31",
   "metadata": {},
   "source": [
    "### Example: Make a prediction for a single user-item pair"
   ]
  },
  {
   "cell_type": "code",
   "execution_count": 42,
   "id": "b8898d4c-df74-4c6c-85ea-2484b31e2008",
   "metadata": {},
   "outputs": [
    {
     "data": {
      "text/plain": [
       "4.353580280247132"
      ]
     },
     "execution_count": 42,
     "metadata": {},
     "output_type": "execute_result"
    }
   ],
   "source": [
    "uid = str('8842281e1d1347389f2ab93d60773d4d')  # raw user id (as in the ratings file). They are **strings**!\n",
    "iid = str(29058155)  # raw item id (as in the ratings file). They are **strings**!\n",
    "\n",
    "# get a prediction for specific users and items.\n",
    "pred = algo.predict(uid, iid, r_ui=3, verbose=False)\n",
    "pred.est"
   ]
  },
  {
   "cell_type": "markdown",
   "id": "cf58351f-022f-4167-a491-7215e5a1e958",
   "metadata": {},
   "source": [
    "### Predict the ratings for the entire test set"
   ]
  },
  {
   "cell_type": "code",
   "execution_count": 47,
   "id": "8198d696-dbb6-461d-b59a-4e1117818744",
   "metadata": {},
   "outputs": [
    {
     "data": {
      "text/html": [
       "<div>\n",
       "<style scoped>\n",
       "    .dataframe tbody tr th:only-of-type {\n",
       "        vertical-align: middle;\n",
       "    }\n",
       "\n",
       "    .dataframe tbody tr th {\n",
       "        vertical-align: top;\n",
       "    }\n",
       "\n",
       "    .dataframe thead th {\n",
       "        text-align: right;\n",
       "    }\n",
       "</style>\n",
       "<table border=\"1\" class=\"dataframe\">\n",
       "  <thead>\n",
       "    <tr style=\"text-align: right;\">\n",
       "      <th></th>\n",
       "      <th>user_id</th>\n",
       "      <th>book_id</th>\n",
       "      <th>rating</th>\n",
       "      <th>rating_predicted</th>\n",
       "    </tr>\n",
       "  </thead>\n",
       "  <tbody>\n",
       "    <tr>\n",
       "      <th>0</th>\n",
       "      <td>8842281e1d1347389f2ab93d60773d4d</td>\n",
       "      <td>29058155</td>\n",
       "      <td>3</td>\n",
       "      <td>4.304734</td>\n",
       "    </tr>\n",
       "    <tr>\n",
       "      <th>1</th>\n",
       "      <td>8842281e1d1347389f2ab93d60773d4d</td>\n",
       "      <td>76620</td>\n",
       "      <td>5</td>\n",
       "      <td>4.304734</td>\n",
       "    </tr>\n",
       "    <tr>\n",
       "      <th>2</th>\n",
       "      <td>01ec1a320ffded6b2dd47833f2c8e4fb</td>\n",
       "      <td>30853358</td>\n",
       "      <td>5</td>\n",
       "      <td>4.310409</td>\n",
       "    </tr>\n",
       "    <tr>\n",
       "      <th>3</th>\n",
       "      <td>4b3636a043e5c99fa27ac897ccfa1151</td>\n",
       "      <td>34084</td>\n",
       "      <td>4</td>\n",
       "      <td>3.557498</td>\n",
       "    </tr>\n",
       "    <tr>\n",
       "      <th>4</th>\n",
       "      <td>afc070543f19028dc7e7f084a0079f72</td>\n",
       "      <td>18131</td>\n",
       "      <td>5</td>\n",
       "      <td>4.240893</td>\n",
       "    </tr>\n",
       "  </tbody>\n",
       "</table>\n",
       "</div>"
      ],
      "text/plain": [
       "                            user_id   book_id  rating  rating_predicted\n",
       "0  8842281e1d1347389f2ab93d60773d4d  29058155       3          4.304734\n",
       "1  8842281e1d1347389f2ab93d60773d4d     76620       5          4.304734\n",
       "2  01ec1a320ffded6b2dd47833f2c8e4fb  30853358       5          4.310409\n",
       "3  4b3636a043e5c99fa27ac897ccfa1151     34084       4          3.557498\n",
       "4  afc070543f19028dc7e7f084a0079f72     18131       5          4.240893"
      ]
     },
     "execution_count": 47,
     "metadata": {},
     "output_type": "execute_result"
    }
   ],
   "source": [
    "df_test['rating_predicted'] = df_test.apply(lambda x: algo.predict(x['user_id'], \n",
    "                                                                  x.book_id, \n",
    "                                                                  r_ui=x.rating, \n",
    "                                                                  verbose=False).est, axis=1)\n",
    "                                            \n",
    "df_test.head()"
   ]
  },
  {
   "cell_type": "markdown",
   "id": "e8c0c3a6-7643-4366-a83d-2d5dcad33a26",
   "metadata": {},
   "source": [
    "### Get the prtedicted binary recommendations (`yes/no` $\\leftrightarrow$ `1/0`)"
   ]
  },
  {
   "cell_type": "code",
   "execution_count": 48,
   "id": "71f26d55-abab-48a1-8ec2-d7a64a995e3b",
   "metadata": {},
   "outputs": [
    {
     "data": {
      "text/html": [
       "<div>\n",
       "<style scoped>\n",
       "    .dataframe tbody tr th:only-of-type {\n",
       "        vertical-align: middle;\n",
       "    }\n",
       "\n",
       "    .dataframe tbody tr th {\n",
       "        vertical-align: top;\n",
       "    }\n",
       "\n",
       "    .dataframe thead th {\n",
       "        text-align: right;\n",
       "    }\n",
       "</style>\n",
       "<table border=\"1\" class=\"dataframe\">\n",
       "  <thead>\n",
       "    <tr style=\"text-align: right;\">\n",
       "      <th></th>\n",
       "      <th>user_id</th>\n",
       "      <th>book_id</th>\n",
       "      <th>rating</th>\n",
       "      <th>rating_predicted</th>\n",
       "      <th>would_recommend</th>\n",
       "      <th>would_recommend_pred</th>\n",
       "    </tr>\n",
       "  </thead>\n",
       "  <tbody>\n",
       "    <tr>\n",
       "      <th>0</th>\n",
       "      <td>8842281e1d1347389f2ab93d60773d4d</td>\n",
       "      <td>29058155</td>\n",
       "      <td>3</td>\n",
       "      <td>4.304734</td>\n",
       "      <td>0</td>\n",
       "      <td>1</td>\n",
       "    </tr>\n",
       "    <tr>\n",
       "      <th>1</th>\n",
       "      <td>8842281e1d1347389f2ab93d60773d4d</td>\n",
       "      <td>76620</td>\n",
       "      <td>5</td>\n",
       "      <td>4.304734</td>\n",
       "      <td>1</td>\n",
       "      <td>1</td>\n",
       "    </tr>\n",
       "    <tr>\n",
       "      <th>2</th>\n",
       "      <td>01ec1a320ffded6b2dd47833f2c8e4fb</td>\n",
       "      <td>30853358</td>\n",
       "      <td>5</td>\n",
       "      <td>4.310409</td>\n",
       "      <td>1</td>\n",
       "      <td>1</td>\n",
       "    </tr>\n",
       "    <tr>\n",
       "      <th>3</th>\n",
       "      <td>4b3636a043e5c99fa27ac897ccfa1151</td>\n",
       "      <td>34084</td>\n",
       "      <td>4</td>\n",
       "      <td>3.557498</td>\n",
       "      <td>1</td>\n",
       "      <td>0</td>\n",
       "    </tr>\n",
       "    <tr>\n",
       "      <th>4</th>\n",
       "      <td>afc070543f19028dc7e7f084a0079f72</td>\n",
       "      <td>18131</td>\n",
       "      <td>5</td>\n",
       "      <td>4.240893</td>\n",
       "      <td>1</td>\n",
       "      <td>1</td>\n",
       "    </tr>\n",
       "  </tbody>\n",
       "</table>\n",
       "</div>"
      ],
      "text/plain": [
       "                            user_id   book_id  rating  rating_predicted  \\\n",
       "0  8842281e1d1347389f2ab93d60773d4d  29058155       3          4.304734   \n",
       "1  8842281e1d1347389f2ab93d60773d4d     76620       5          4.304734   \n",
       "2  01ec1a320ffded6b2dd47833f2c8e4fb  30853358       5          4.310409   \n",
       "3  4b3636a043e5c99fa27ac897ccfa1151     34084       4          3.557498   \n",
       "4  afc070543f19028dc7e7f084a0079f72     18131       5          4.240893   \n",
       "\n",
       "   would_recommend  would_recommend_pred  \n",
       "0                0                     1  \n",
       "1                1                     1  \n",
       "2                1                     1  \n",
       "3                1                     0  \n",
       "4                1                     1  "
      ]
     },
     "execution_count": 48,
     "metadata": {},
     "output_type": "execute_result"
    }
   ],
   "source": [
    "df_test['would_recommend'] = df_test['rating'].apply(lambda x: 1 if x >= 4 else 0)\n",
    "df_test['would_recommend_pred'] = df_test['rating_predicted'].apply(lambda x: 1 if x >= 4 else 0)\n",
    "                                            \n",
    "df_test.head()"
   ]
  },
  {
   "cell_type": "markdown",
   "id": "3254ed69-bf68-4a94-8952-e1c314bec39e",
   "metadata": {},
   "source": [
    "### Estimate the accuracy (percentage of the correct guesses) on the test set"
   ]
  },
  {
   "cell_type": "code",
   "execution_count": 51,
   "id": "a28d4071-5b94-4211-b745-bacd7de92a1f",
   "metadata": {},
   "outputs": [
    {
     "name": "stdout",
     "output_type": "stream",
     "text": [
      "Accuracy: 65.85%\n"
     ]
    }
   ],
   "source": [
    "accuracy = df_test[df_test['would_recommend_pred'] == df_test['would_recommend']]['rating'].\\\n",
    "                count()/df_test.shape[0]\n",
    "\n",
    "print(f'Accuracy: {accuracy*100:.2f}%')"
   ]
  },
  {
   "cell_type": "markdown",
   "id": "f0328cce-c5ba-4f48-910e-39e997616bff",
   "metadata": {},
   "source": [
    "### Estimate the bias of the trained recommender on the test set"
   ]
  },
  {
   "cell_type": "code",
   "execution_count": 54,
   "id": "a615484b-a1ae-495a-91c2-5ae4d17d8ca5",
   "metadata": {},
   "outputs": [
    {
     "name": "stdout",
     "output_type": "stream",
     "text": [
      "Avg. Rating:           4.03\n",
      "Avg. Predicted Rating: 4.02\n"
     ]
    }
   ],
   "source": [
    "avg_rating_test = df_test['rating'].mean()\n",
    "avg_predicted_rating_test = df_test['rating_predicted'].mean()\n",
    "\n",
    "print(f'Avg. Rating:           {avg_rating_test:.2f}')\n",
    "print(f'Avg. Predicted Rating: {avg_predicted_rating_test:.2f}')"
   ]
  },
  {
   "cell_type": "markdown",
   "id": "bff04279-a2a6-49d2-af74-0e072c3ed85d",
   "metadata": {},
   "source": [
    "### Notes on the estimated accuracy and bias\n",
    " * When evaluated on the test set, the trained SVD model demonstrates a low bias.\n",
    " * On the other hand, the estimated accuracy of 65.85% suggests that our model suffers from a considerable variance. \n",
    " * With `MAE = 0.6681`, one can see that a substantial number of user-item recommendations get misclassified near the decision boundary (\"no\" corresponds to `rank < 4`; \"yes\" is for `rank >= 4`).\n",
    " * This leads us to a conclusion that the model's performance could be improved with the use of one of data resampling techniques. This approach has a potential of lowering the variance, thereby boosting the overall accuracy."
   ]
  },
  {
   "cell_type": "markdown",
   "id": "429dcbba-a0c5-4026-8e72-bec7d9d15290",
   "metadata": {},
   "source": [
    "### Estimating the bias near the decision boundary"
   ]
  },
  {
   "cell_type": "code",
   "execution_count": 6,
   "id": "bceb253b-0b95-45c0-8c41-da93ea89a171",
   "metadata": {},
   "outputs": [
    {
     "ename": "NameError",
     "evalue": "name 'df_test' is not defined",
     "output_type": "error",
     "traceback": [
      "\u001b[0;31m---------------------------------------------------------------------------\u001b[0m",
      "\u001b[0;31mNameError\u001b[0m                                 Traceback (most recent call last)",
      "\u001b[0;32m/var/folders/7v/m3c2k1r143xf2myfbgfw9jzr0000gq/T/ipykernel_16108/2511585360.py\u001b[0m in \u001b[0;36m<module>\u001b[0;34m\u001b[0m\n\u001b[0;32m----> 1\u001b[0;31m \u001b[0mdf_test\u001b[0m\u001b[0;34m[\u001b[0m\u001b[0;36m3\u001b[0m \u001b[0;34m<=\u001b[0m \u001b[0mdf_test\u001b[0m\u001b[0;34m[\u001b[0m\u001b[0;34m'rating'\u001b[0m\u001b[0;34m]\u001b[0m \u001b[0;34m<=\u001b[0m \u001b[0;36m4\u001b[0m\u001b[0;34m]\u001b[0m\u001b[0;34m[\u001b[0m\u001b[0;34m'rating'\u001b[0m\u001b[0;34m]\u001b[0m\u001b[0;34m.\u001b[0m\u001b[0mmean\u001b[0m\u001b[0;34m(\u001b[0m\u001b[0;34m)\u001b[0m\u001b[0;34m\u001b[0m\u001b[0;34m\u001b[0m\u001b[0m\n\u001b[0m",
      "\u001b[0;31mNameError\u001b[0m: name 'df_test' is not defined"
     ]
    }
   ],
   "source": [
    "df_test[3 <= df_test['rating'] <= 4]['rating'].mean()"
   ]
  },
  {
   "cell_type": "code",
   "execution_count": 6,
   "id": "e46676bc-55e9-46c2-a31b-828140e7731f",
   "metadata": {},
   "outputs": [
    {
     "ename": "NameError",
     "evalue": "name 'df_test' is not defined",
     "output_type": "error",
     "traceback": [
      "\u001b[0;31m---------------------------------------------------------------------------\u001b[0m",
      "\u001b[0;31mNameError\u001b[0m                                 Traceback (most recent call last)",
      "\u001b[0;32m/var/folders/7v/m3c2k1r143xf2myfbgfw9jzr0000gq/T/ipykernel_16108/2511585360.py\u001b[0m in \u001b[0;36m<module>\u001b[0;34m\u001b[0m\n\u001b[0;32m----> 1\u001b[0;31m \u001b[0mdf_test\u001b[0m\u001b[0;34m[\u001b[0m\u001b[0;36m3\u001b[0m \u001b[0;34m<=\u001b[0m \u001b[0mdf_test\u001b[0m\u001b[0;34m[\u001b[0m\u001b[0;34m'rating'\u001b[0m\u001b[0;34m]\u001b[0m \u001b[0;34m<=\u001b[0m \u001b[0;36m4\u001b[0m\u001b[0;34m]\u001b[0m\u001b[0;34m[\u001b[0m\u001b[0;34m'rating'\u001b[0m\u001b[0;34m]\u001b[0m\u001b[0;34m.\u001b[0m\u001b[0mmean\u001b[0m\u001b[0;34m(\u001b[0m\u001b[0;34m)\u001b[0m\u001b[0;34m\u001b[0m\u001b[0;34m\u001b[0m\u001b[0m\n\u001b[0m",
      "\u001b[0;31mNameError\u001b[0m: name 'df_test' is not defined"
     ]
    }
   ],
   "source": [
    "df_test[3 <= df_test['rating'] <= 4]['rating_predicted'].mean()"
   ]
  }
 ],
 "metadata": {
  "kernelspec": {
   "display_name": "Python 3 (ipykernel)",
   "language": "python",
   "name": "python3"
  },
  "language_info": {
   "codemirror_mode": {
    "name": "ipython",
    "version": 3
   },
   "file_extension": ".py",
   "mimetype": "text/x-python",
   "name": "python",
   "nbconvert_exporter": "python",
   "pygments_lexer": "ipython3",
   "version": "3.9.13"
  }
 },
 "nbformat": 4,
 "nbformat_minor": 5
}
