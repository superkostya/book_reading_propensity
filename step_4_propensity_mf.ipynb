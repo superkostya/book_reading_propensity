{
 "cells": [
  {
   "cell_type": "markdown",
   "id": "ccf2c69d-1755-4ad3-a5a9-4dd52a447168",
   "metadata": {},
   "source": [
    "# Book Reading Propensity: Collaborative Filtering Approach\n",
    "\n",
    "## Matrix Factorization & \"k Nearest Neighbors\""
   ]
  },
  {
   "cell_type": "code",
   "execution_count": 1,
   "id": "e995e6c8-bcc6-4257-b589-ef0d819f9db8",
   "metadata": {},
   "outputs": [],
   "source": [
    "import pandas as pd\n",
    "import numpy as np\n",
    "from scipy import sparse\n",
    "import os\n",
    "\n",
    "from surprise import Reader, Dataset, SVD, BaselineOnly, NMF, accuracy\n",
    "from surprise.model_selection import train_test_split, GridSearchCV\n",
    "\n",
    "import matplotlib.pyplot as plt\n",
    "\n",
    "%matplotlib inline"
   ]
  },
  {
   "cell_type": "markdown",
   "id": "9897f13f-5e0f-468f-a52f-f4c647c59200",
   "metadata": {},
   "source": [
    "## Read the Data"
   ]
  },
  {
   "cell_type": "code",
   "execution_count": null,
   "id": "0cdd8247-0811-41dc-8387-e4551f4f3c15",
   "metadata": {},
   "outputs": [],
   "source": [
    "train_val_path = './data/goodreads_2016_train_val.csv'"
   ]
  },
  {
   "cell_type": "code",
   "execution_count": 2,
   "id": "ff87ed16-c847-4982-a5ba-37d207c50374",
   "metadata": {},
   "outputs": [
    {
     "name": "stdout",
     "output_type": "stream",
     "text": [
      "Data size: 3,491,950.\n"
     ]
    },
    {
     "data": {
      "text/html": [
       "<div>\n",
       "<style scoped>\n",
       "    .dataframe tbody tr th:only-of-type {\n",
       "        vertical-align: middle;\n",
       "    }\n",
       "\n",
       "    .dataframe tbody tr th {\n",
       "        vertical-align: top;\n",
       "    }\n",
       "\n",
       "    .dataframe thead th {\n",
       "        text-align: right;\n",
       "    }\n",
       "</style>\n",
       "<table border=\"1\" class=\"dataframe\">\n",
       "  <thead>\n",
       "    <tr style=\"text-align: right;\">\n",
       "      <th></th>\n",
       "      <th>user_id</th>\n",
       "      <th>book_id</th>\n",
       "      <th>rating</th>\n",
       "    </tr>\n",
       "  </thead>\n",
       "  <tbody>\n",
       "    <tr>\n",
       "      <th>0</th>\n",
       "      <td>8842281e1d1347389f2ab93d60773d4d</td>\n",
       "      <td>10673579</td>\n",
       "      <td>5</td>\n",
       "    </tr>\n",
       "    <tr>\n",
       "      <th>1</th>\n",
       "      <td>7504b2aee1ecb5b2872d3da381c6c91e</td>\n",
       "      <td>29069989</td>\n",
       "      <td>2</td>\n",
       "    </tr>\n",
       "    <tr>\n",
       "      <th>2</th>\n",
       "      <td>7504b2aee1ecb5b2872d3da381c6c91e</td>\n",
       "      <td>8882815</td>\n",
       "      <td>3</td>\n",
       "    </tr>\n",
       "    <tr>\n",
       "      <th>3</th>\n",
       "      <td>7504b2aee1ecb5b2872d3da381c6c91e</td>\n",
       "      <td>6693332</td>\n",
       "      <td>4</td>\n",
       "    </tr>\n",
       "    <tr>\n",
       "      <th>4</th>\n",
       "      <td>7504b2aee1ecb5b2872d3da381c6c91e</td>\n",
       "      <td>4588949</td>\n",
       "      <td>4</td>\n",
       "    </tr>\n",
       "  </tbody>\n",
       "</table>\n",
       "</div>"
      ],
      "text/plain": [
       "                            user_id   book_id  rating\n",
       "0  8842281e1d1347389f2ab93d60773d4d  10673579       5\n",
       "1  7504b2aee1ecb5b2872d3da381c6c91e  29069989       2\n",
       "2  7504b2aee1ecb5b2872d3da381c6c91e   8882815       3\n",
       "3  7504b2aee1ecb5b2872d3da381c6c91e   6693332       4\n",
       "4  7504b2aee1ecb5b2872d3da381c6c91e   4588949       4"
      ]
     },
     "execution_count": 2,
     "metadata": {},
     "output_type": "execute_result"
    }
   ],
   "source": [
    "df_train_val = pd.read_csv(train_val_path)\n",
    "print(f'Data size: {df_train_val.shape[0]: >8,d}.')\n",
    "df_train_val.head()"
   ]
  },
  {
   "cell_type": "code",
   "execution_count": 3,
   "id": "3d33844b-8762-4bb6-a566-2531150a5687",
   "metadata": {},
   "outputs": [],
   "source": [
    "del df_train_val"
   ]
  },
  {
   "cell_type": "markdown",
   "id": "d4275e61-2d55-4fa4-8b25-16ce76e39248",
   "metadata": {},
   "source": [
    "## Matrix Factorization with the Scikit Suprise: Model Selection\n",
    "References:\n",
    " * https://surpriselib.com/\n",
    " * https://surprise.readthedocs.io/en/stable/index.html"
   ]
  },
  {
   "cell_type": "markdown",
   "id": "a0f0ae8e-718d-4e44-92cd-bfae7095d0f2",
   "metadata": {},
   "source": [
    "### Building a Dataset"
   ]
  },
  {
   "cell_type": "code",
   "execution_count": 4,
   "id": "0937d88e-d067-48ec-9cb1-71113b51b02c",
   "metadata": {},
   "outputs": [],
   "source": [
    "# REF: https://rubikscode.net/2020/04/27/collaborative-filtering-with-machine-learning-and-python/\n",
    "class DatasetBuilder():\n",
    "    def __init__(self, data_location):\n",
    "        reader = Reader(rating_scale=(1, 5))\n",
    "        self.ratings = pd.read_csv(data_location)\n",
    "        \n",
    "        self.dataset = Dataset.load_from_df(self.ratings[['user_id', 'book_id', 'rating']], reader)\n",
    "        self.train_dataset, self.test_dataset = train_test_split(self.dataset, test_size=0.2)"
   ]
  },
  {
   "cell_type": "code",
   "execution_count": 5,
   "id": "c602746a-0241-4bca-b7af-b393d26308fe",
   "metadata": {},
   "outputs": [],
   "source": [
    "train = DatasetBuilder(train_val_path)"
   ]
  },
  {
   "cell_type": "markdown",
   "id": "8d34a9b0-2c20-475c-9071-5b98a0329315",
   "metadata": {},
   "source": [
    "### Grid Search: SVD"
   ]
  },
  {
   "cell_type": "code",
   "execution_count": 33,
   "id": "0957d64f-4062-452e-9b40-83896bc80856",
   "metadata": {},
   "outputs": [],
   "source": [
    "# Full Search Grid:\n",
    "# Note: In the spirit of fast incremental improvements, \n",
    "# we break down the search grid into smaller subgrids.\n",
    "# The next two cells illustrate one such experiment\n",
    "\n",
    "svd_param_grid_full = {\n",
    "    \"n_factors\": [32, 64, 128],\n",
    "    \"n_epochs\": [10, 20, 50, 100],\n",
    "    \"lr_all\": [0.002, 0.005],\n",
    "    \"reg_all\": [0.1, 0.5]\n",
    "}"
   ]
  },
  {
   "cell_type": "code",
   "execution_count": 55,
   "id": "ed4b8eb7-6482-416c-9635-b5a7591adf15",
   "metadata": {},
   "outputs": [
    {
     "name": "stderr",
     "output_type": "stream",
     "text": [
      "[Parallel(n_jobs=3)]: Using backend LokyBackend with 3 concurrent workers.\n"
     ]
    },
    {
     "name": "stdout",
     "output_type": "stream",
     "text": [
      "**************************************************\n",
      "Best RMSE score, with hyperparameters\n",
      "1.1549409149407357\n",
      "{'n_factors': 128, 'n_epochs': 100, 'lr_all': 0.005, 'reg_all': 0.1}\n",
      "**************************************************\n",
      "Best MAE score, with hyperparameters\n",
      "0.8318418249949565\n",
      "{'n_factors': 128, 'n_epochs': 100, 'lr_all': 0.005, 'reg_all': 0.1}\n",
      "**************************************************\n",
      "Best FCP score, with hyperparameters\n",
      "0.6187826379436273\n",
      "{'n_factors': 128, 'n_epochs': 100, 'lr_all': 0.005, 'reg_all': 0.1}\n",
      "**************************************************\n",
      "CPU times: user 50 s, sys: 1min 20s, total: 2min 10s\n",
      "Wall time: 11min 2s\n"
     ]
    },
    {
     "name": "stderr",
     "output_type": "stream",
     "text": [
      "[Parallel(n_jobs=3)]: Done   6 out of   6 | elapsed: 10.3min finished\n"
     ]
    }
   ],
   "source": [
    "%%time\n",
    "svd_param_grid = {\n",
    "    \"n_factors\": [128],\n",
    "    \"n_epochs\": [50, 100],\n",
    "    \"lr_all\": [0.005],\n",
    "    \"reg_all\": [0.1]\n",
    "}\n",
    "\n",
    "gs = GridSearchCV(SVD, svd_param_grid, measures=[\"rmse\", \"mae\", \"fcp\"], cv=3, n_jobs=3, joblib_verbose=1)\n",
    "\n",
    "gs.fit(train.dataset)\n",
    "print('*'*50)\n",
    "print('Best RMSE score, with hyperparameters')\n",
    "print(gs.best_score[\"rmse\"])\n",
    "print(gs.best_params[\"rmse\"])\n",
    "print('*'*50)\n",
    "print('Best MAE score, with hyperparameters')\n",
    "print(gs.best_score[\"mae\"])\n",
    "print(gs.best_params[\"mae\"])\n",
    "print('*'*50)\n",
    "print('Best FCP score, with hyperparameters')\n",
    "print(gs.best_score[\"fcp\"])\n",
    "print(gs.best_params[\"fcp\"])\n",
    "print('*'*50)"
   ]
  },
  {
   "cell_type": "code",
   "execution_count": 8,
   "id": "f2f48c86-a86c-46fc-b6f9-8a40dc89420a",
   "metadata": {},
   "outputs": [],
   "source": [
    "# gs.cv_results"
   ]
  },
  {
   "cell_type": "markdown",
   "id": "2a5a533a-4717-4f40-bd5b-cee8858cbdf5",
   "metadata": {},
   "source": [
    "### Grid Search: NMF"
   ]
  },
  {
   "cell_type": "code",
   "execution_count": 33,
   "id": "a94b2871-abbf-4c78-a925-a9574d7f6ee7",
   "metadata": {},
   "outputs": [],
   "source": [
    "# Full Search Grid:\n",
    "# Note: In the spirit of fast incremental improvements, \n",
    "# we break down the search grid into smaller subgrids.\n",
    "# The next couple of cells illustrate one such experiment\n",
    "\n",
    "nmf_param_grid_full = {\n",
    "    \"n_factors\": [32, 64, 128],\n",
    "    \"n_epochs\": [10, 20, 50, 100],\n",
    "    \"biased\": [False, True]\n",
    "}"
   ]
  },
  {
   "cell_type": "code",
   "execution_count": 6,
   "id": "bb55b82c-b4be-4048-a093-b8566033df83",
   "metadata": {},
   "outputs": [
    {
     "name": "stderr",
     "output_type": "stream",
     "text": [
      "[Parallel(n_jobs=3)]: Using backend LokyBackend with 3 concurrent workers.\n"
     ]
    },
    {
     "name": "stdout",
     "output_type": "stream",
     "text": [
      "**************************************************\n",
      "Best RMSE score, with hyperparameters\n",
      "1.3348718206119399\n",
      "{'n_factors': 128, 'n_epochs': 10, 'biased': False}\n",
      "**************************************************\n",
      "Best MAE score, with hyperparameters\n",
      "0.9369168304480354\n",
      "{'n_factors': 128, 'n_epochs': 10, 'biased': False}\n",
      "**************************************************\n",
      "Best FCP score, with hyperparameters\n",
      "0.3638301603132758\n",
      "{'n_factors': 128, 'n_epochs': 10, 'biased': True}\n",
      "**************************************************\n",
      "CPU times: user 41.7 s, sys: 36.7 s, total: 1min 18s\n",
      "Wall time: 11min 19s\n"
     ]
    },
    {
     "name": "stderr",
     "output_type": "stream",
     "text": [
      "[Parallel(n_jobs=3)]: Done   6 out of   6 | elapsed: 10.8min finished\n"
     ]
    }
   ],
   "source": [
    "%%time\n",
    "nmf_param_grid = {\n",
    "    \"n_factors\": [128],\n",
    "    \"n_epochs\": [10],\n",
    "    \"biased\": [False, True]\n",
    "}\n",
    "\n",
    "gs = GridSearchCV(NMF, nmf_param_grid, measures=[\"rmse\", \"mae\", \"fcp\"], cv=3, n_jobs=3, joblib_verbose=1)\n",
    "\n",
    "gs.fit(train.dataset)\n",
    "print('*'*50)\n",
    "print('Best RMSE score, with hyperparameters')\n",
    "print(gs.best_score[\"rmse\"])\n",
    "print(gs.best_params[\"rmse\"])\n",
    "print('*'*50)\n",
    "print('Best MAE score, with hyperparameters')\n",
    "print(gs.best_score[\"mae\"])\n",
    "print(gs.best_params[\"mae\"])\n",
    "print('*'*50)\n",
    "print('Best FCP score, with hyperparameters')\n",
    "print(gs.best_score[\"fcp\"])\n",
    "print(gs.best_params[\"fcp\"])\n",
    "print('*'*50)"
   ]
  },
  {
   "cell_type": "code",
   "execution_count": 7,
   "id": "8ea83acf-223a-4947-bfe7-8cf068cbb230",
   "metadata": {},
   "outputs": [
    {
     "data": {
      "text/plain": [
       "{'split0_test_rmse': array([1.33480871, 1.91178115]),\n",
       " 'split1_test_rmse': array([1.33507148, 1.92561447]),\n",
       " 'split2_test_rmse': array([1.33473527, 1.94094462]),\n",
       " 'mean_test_rmse': array([1.33487182, 1.92611342]),\n",
       " 'std_test_rmse': array([0.00014433, 0.01191116]),\n",
       " 'rank_test_rmse': array([1, 2]),\n",
       " 'split0_test_mae': array([0.93674739, 1.45747351]),\n",
       " 'split1_test_mae': array([0.93707775, 1.47037776]),\n",
       " 'split2_test_mae': array([0.93692536, 1.49048659]),\n",
       " 'mean_test_mae': array([0.93691683, 1.47277929]),\n",
       " 'std_test_mae': array([0.000135  , 0.01358409]),\n",
       " 'rank_test_mae': array([1, 2]),\n",
       " 'split0_test_fcp': array([0.33495661, 0.37628206]),\n",
       " 'split1_test_fcp': array([0.33938084, 0.35712743]),\n",
       " 'split2_test_fcp': array([0.32837866, 0.358081  ]),\n",
       " 'mean_test_fcp': array([0.33423871, 0.36383016]),\n",
       " 'std_test_fcp': array([0.00452022, 0.00881342]),\n",
       " 'rank_test_fcp': array([2, 1]),\n",
       " 'mean_fit_time': array([189.97589628, 252.0327901 ]),\n",
       " 'std_fit_time': array([ 5.72445159, 20.29270348]),\n",
       " 'mean_test_time': array([41.68705455, 82.05192995]),\n",
       " 'std_test_time': array([4.41703837, 1.47089722]),\n",
       " 'params': [{'n_factors': 128, 'n_epochs': 10, 'biased': False},\n",
       "  {'n_factors': 128, 'n_epochs': 10, 'biased': True}],\n",
       " 'param_n_factors': [128, 128],\n",
       " 'param_n_epochs': [10, 10],\n",
       " 'param_biased': [False, True]}"
      ]
     },
     "execution_count": 7,
     "metadata": {},
     "output_type": "execute_result"
    }
   ],
   "source": [
    "gs.cv_results"
   ]
  },
  {
   "cell_type": "markdown",
   "id": "37b7f915-74cb-42d0-9c7b-076335cc70dd",
   "metadata": {},
   "source": [
    "### Evaluate & Compare the Selected MF Algorithms"
   ]
  },
  {
   "cell_type": "code",
   "execution_count": 9,
   "id": "d8e79b50-5a7a-4ff0-88f8-49ff4b27299e",
   "metadata": {},
   "outputs": [],
   "source": [
    "class TrainEvalAlgos():\n",
    "    def __init__(self, dataset):\n",
    "        self.algos = []\n",
    "        self.dataset = dataset\n",
    "        \n",
    "    def addAlgorithm(self, algo):\n",
    "        self.algos.append(algo)\n",
    "        \n",
    "    def train_and_evaluate(self):\n",
    "        for algo in self.algos:\n",
    "            algo.fit(self.dataset.train_dataset)\n",
    "            predictions = algo.test(self.dataset.test_dataset)\n",
    "            rmse = accuracy.rmse(predictions)\n",
    "            mae = accuracy.mae(predictions)\n",
    "            fcp = accuracy.fcp(predictions)\n",
    "            print('-----------')\n",
    "            print(f'{algo.__class__.__name__}') \n",
    "            print('-----------')\n",
    "            print(f'      Metrics - RMSE: {rmse}, MAE: {mae}, FCP: {fcp}')\n",
    "            print('-----------')"
   ]
  },
  {
   "cell_type": "code",
   "execution_count": null,
   "id": "14cbb733-3839-4275-97b3-0c39410462eb",
   "metadata": {},
   "outputs": [
    {
     "name": "stdout",
     "output_type": "stream",
     "text": [
      "n_factors = 128\n",
      "**************************************************\n",
      "RMSE: 0.7878\n",
      "MAE:  0.6016\n",
      "FCP:  0.6110\n",
      "-----------\n",
      "SVD\n",
      "-----------\n",
      "      Metrics - RMSE: 0.7877730588340818, MAE: 0.6016093212901044, FCP: 0.6109515092713509\n",
      "-----------\n"
     ]
    }
   ],
   "source": [
    "%%time\n",
    "train_eval_run = TrainEvalAlgos(train)\n",
    "\n",
    "n_factors = 128\n",
    "print(f'n_factors = {n_factors}')\n",
    "print('*'*50)\n",
    "svd = SVD(**{'n_factors': n_factors, 'n_epochs': 100, 'lr_all': 0.005, 'reg_all': 0.1})\n",
    "train_eval_run.addAlgorithm(svd)\n",
    "\n",
    "nmf = NMF(**{'n_factors': n_factors, 'n_epochs': 100, 'biased': False})\n",
    "train_eval_run.addAlgorithm(nmf)\n",
    "\n",
    "bsl_options = {'method': 'als',\n",
    "               'n_epochs': 5,\n",
    "               'reg_u': 12,\n",
    "               'reg_i': 5\n",
    "               }\n",
    "als = BaselineOnly(bsl_options=bsl_options)\n",
    "train_eval_run.addAlgorithm(als)\n",
    "\n",
    "train_eval_run.train_and_evaluate()\n",
    "print('*'*50)"
   ]
  },
  {
   "cell_type": "markdown",
   "id": "16d956cb-3bf1-44c2-bc38-b7b62af26c6e",
   "metadata": {},
   "source": [
    "## Inference\n",
    "\n",
    " * From the assignment: \"*The input for the model will be (user_id, item_id) with other feature data and the output will be (positive or negative, confidence value)*\"\n",
    " * __Propencity model and \"cold starts\":__\n",
    "     * Whenever both the __user and the item are \"known\"__ (i.e., previously observed), we use previously selected model that showed the best performance on the train set.\n",
    "     * Whenever we encounter a __\"cold start\" case (a user and/or item is new, previously unobserved)__, we will use the __baseline model__, i.e. an average rating, with corrections for a user/item bias (if we happen to have that data).\n",
    " * __Estimating the confidence:__ \n",
    "     * We can use the accuracy of the binary (\"positive/negative\") predictions on the train set, as an estimate of the confidence\n",
    "     * As an incremental improvement, we can adjust the confidence based on the number of ratings provided by the user (the more we know about the user's preferences, the more accurately we can make a recommendation) "
   ]
  },
  {
   "cell_type": "code",
   "execution_count": 2,
   "id": "e61f911a-64be-4760-a081-0f9885793656",
   "metadata": {},
   "outputs": [
    {
     "name": "stdout",
     "output_type": "stream",
     "text": [
      "Data size: 3,491,950.\n"
     ]
    },
    {
     "data": {
      "text/html": [
       "<div>\n",
       "<style scoped>\n",
       "    .dataframe tbody tr th:only-of-type {\n",
       "        vertical-align: middle;\n",
       "    }\n",
       "\n",
       "    .dataframe tbody tr th {\n",
       "        vertical-align: top;\n",
       "    }\n",
       "\n",
       "    .dataframe thead th {\n",
       "        text-align: right;\n",
       "    }\n",
       "</style>\n",
       "<table border=\"1\" class=\"dataframe\">\n",
       "  <thead>\n",
       "    <tr style=\"text-align: right;\">\n",
       "      <th></th>\n",
       "      <th>user_id</th>\n",
       "      <th>book_id</th>\n",
       "      <th>rating</th>\n",
       "      <th>would_recommend</th>\n",
       "    </tr>\n",
       "  </thead>\n",
       "  <tbody>\n",
       "    <tr>\n",
       "      <th>0</th>\n",
       "      <td>8842281e1d1347389f2ab93d60773d4d</td>\n",
       "      <td>10673579</td>\n",
       "      <td>5</td>\n",
       "      <td>1</td>\n",
       "    </tr>\n",
       "    <tr>\n",
       "      <th>1</th>\n",
       "      <td>7504b2aee1ecb5b2872d3da381c6c91e</td>\n",
       "      <td>29069989</td>\n",
       "      <td>2</td>\n",
       "      <td>0</td>\n",
       "    </tr>\n",
       "    <tr>\n",
       "      <th>2</th>\n",
       "      <td>7504b2aee1ecb5b2872d3da381c6c91e</td>\n",
       "      <td>8882815</td>\n",
       "      <td>3</td>\n",
       "      <td>0</td>\n",
       "    </tr>\n",
       "    <tr>\n",
       "      <th>3</th>\n",
       "      <td>7504b2aee1ecb5b2872d3da381c6c91e</td>\n",
       "      <td>6693332</td>\n",
       "      <td>4</td>\n",
       "      <td>1</td>\n",
       "    </tr>\n",
       "    <tr>\n",
       "      <th>4</th>\n",
       "      <td>7504b2aee1ecb5b2872d3da381c6c91e</td>\n",
       "      <td>4588949</td>\n",
       "      <td>4</td>\n",
       "      <td>1</td>\n",
       "    </tr>\n",
       "  </tbody>\n",
       "</table>\n",
       "</div>"
      ],
      "text/plain": [
       "                            user_id   book_id  rating  would_recommend\n",
       "0  8842281e1d1347389f2ab93d60773d4d  10673579       5                1\n",
       "1  7504b2aee1ecb5b2872d3da381c6c91e  29069989       2                0\n",
       "2  7504b2aee1ecb5b2872d3da381c6c91e   8882815       3                0\n",
       "3  7504b2aee1ecb5b2872d3da381c6c91e   6693332       4                1\n",
       "4  7504b2aee1ecb5b2872d3da381c6c91e   4588949       4                1"
      ]
     },
     "execution_count": 2,
     "metadata": {},
     "output_type": "execute_result"
    }
   ],
   "source": [
    "test_path = './data/goodreads_2016_test.csv'\n",
    "\n",
    "df_test = pd.read_csv(test_path)\n",
    "print(f'Data size: {df_test.shape[0]: >8,d}.')\n",
    "df_test.head()"
   ]
  },
  {
   "cell_type": "code",
   "execution_count": null,
   "id": "e9452aba-cb6c-42a8-bd5a-b3adc64eeb04",
   "metadata": {},
   "outputs": [],
   "source": [
    "del df_test"
   ]
  },
  {
   "cell_type": "code",
   "execution_count": 4,
   "id": "172e3036-9ee4-4ff3-b28b-e580a41c8ef7",
   "metadata": {},
   "outputs": [],
   "source": [
    "test = DatasetBuilder(test_path)"
   ]
  },
  {
   "cell_type": "code",
   "execution_count": null,
   "id": "7d14c1fc-3917-491c-8d6f-b2fe15e9cfcf",
   "metadata": {},
   "outputs": [],
   "source": [
    "def user_item_propensity(user_id, item_id, baseline_model, main_model):\n",
    "    if user_id in new_users and item_id in new_items:\n",
    "        # Use the baseline model: global average rating\n",
    "        rating = baseline_model.predict()\n",
    "        confidence = None\n",
    "        return rating, confidence\n",
    "    elif user_id in new_users:\n",
    "        # Correct for the item bias\n",
    "        rating = baseline_model.predict(item_id)\n",
    "        confidence = None\n",
    "    elif item_id in new_items:\n",
    "        # Correct for the user bias\n",
    "        rating = baseline_model.predict(user_id)\n",
    "        confidence = None\n",
    "    else:\n",
    "        # Run the main model\n",
    "        rating = main_model.predict(user_id, item_id)\n",
    "        confidence = None"
   ]
  },
  {
   "cell_type": "markdown",
   "id": "df548cab-5fa1-4319-bf7d-5e2e76e2148a",
   "metadata": {},
   "source": [
    "## Save the Results"
   ]
  },
  {
   "cell_type": "markdown",
   "id": "c9e81649-4836-4366-8638-de443dbaa743",
   "metadata": {},
   "source": [
    "## Create a Label/Target: \"Would Recommend\""
   ]
  },
  {
   "cell_type": "code",
   "execution_count": 6,
   "id": "09504009-7799-4dc5-999d-b3c44dcd51e9",
   "metadata": {},
   "outputs": [
    {
     "data": {
      "text/html": [
       "<div>\n",
       "<style scoped>\n",
       "    .dataframe tbody tr th:only-of-type {\n",
       "        vertical-align: middle;\n",
       "    }\n",
       "\n",
       "    .dataframe tbody tr th {\n",
       "        vertical-align: top;\n",
       "    }\n",
       "\n",
       "    .dataframe thead th {\n",
       "        text-align: right;\n",
       "    }\n",
       "</style>\n",
       "<table border=\"1\" class=\"dataframe\">\n",
       "  <thead>\n",
       "    <tr style=\"text-align: right;\">\n",
       "      <th></th>\n",
       "      <th>user_id</th>\n",
       "      <th>book_id</th>\n",
       "      <th>month</th>\n",
       "      <th>day</th>\n",
       "      <th>hour</th>\n",
       "      <th>rating</th>\n",
       "      <th>would_recommend</th>\n",
       "    </tr>\n",
       "  </thead>\n",
       "  <tbody>\n",
       "    <tr>\n",
       "      <th>0</th>\n",
       "      <td>8842281e1d1347389f2ab93d60773d4d</td>\n",
       "      <td>29058155</td>\n",
       "      <td>12</td>\n",
       "      <td>13</td>\n",
       "      <td>11</td>\n",
       "      <td>3</td>\n",
       "      <td>0</td>\n",
       "    </tr>\n",
       "    <tr>\n",
       "      <th>1</th>\n",
       "      <td>8842281e1d1347389f2ab93d60773d4d</td>\n",
       "      <td>10673579</td>\n",
       "      <td>1</td>\n",
       "      <td>8</td>\n",
       "      <td>1</td>\n",
       "      <td>5</td>\n",
       "      <td>1</td>\n",
       "    </tr>\n",
       "    <tr>\n",
       "      <th>2</th>\n",
       "      <td>8842281e1d1347389f2ab93d60773d4d</td>\n",
       "      <td>76620</td>\n",
       "      <td>12</td>\n",
       "      <td>14</td>\n",
       "      <td>12</td>\n",
       "      <td>5</td>\n",
       "      <td>1</td>\n",
       "    </tr>\n",
       "    <tr>\n",
       "      <th>3</th>\n",
       "      <td>7504b2aee1ecb5b2872d3da381c6c91e</td>\n",
       "      <td>29069989</td>\n",
       "      <td>8</td>\n",
       "      <td>17</td>\n",
       "      <td>19</td>\n",
       "      <td>2</td>\n",
       "      <td>0</td>\n",
       "    </tr>\n",
       "    <tr>\n",
       "      <th>4</th>\n",
       "      <td>7504b2aee1ecb5b2872d3da381c6c91e</td>\n",
       "      <td>8882815</td>\n",
       "      <td>6</td>\n",
       "      <td>21</td>\n",
       "      <td>16</td>\n",
       "      <td>3</td>\n",
       "      <td>0</td>\n",
       "    </tr>\n",
       "  </tbody>\n",
       "</table>\n",
       "</div>"
      ],
      "text/plain": [
       "                            user_id   book_id  month  day  hour  rating  \\\n",
       "0  8842281e1d1347389f2ab93d60773d4d  29058155     12   13    11       3   \n",
       "1  8842281e1d1347389f2ab93d60773d4d  10673579      1    8     1       5   \n",
       "2  8842281e1d1347389f2ab93d60773d4d     76620     12   14    12       5   \n",
       "3  7504b2aee1ecb5b2872d3da381c6c91e  29069989      8   17    19       2   \n",
       "4  7504b2aee1ecb5b2872d3da381c6c91e   8882815      6   21    16       3   \n",
       "\n",
       "   would_recommend  \n",
       "0                0  \n",
       "1                1  \n",
       "2                1  \n",
       "3                0  \n",
       "4                0  "
      ]
     },
     "execution_count": 6,
     "metadata": {},
     "output_type": "execute_result"
    }
   ],
   "source": [
    "# df['would_recommend'] = df['rating'].apply(lambda x: 1 if x >= 4 else 0)\n",
    "# df.head()"
   ]
  }
 ],
 "metadata": {
  "kernelspec": {
   "display_name": "Python 3 (ipykernel)",
   "language": "python",
   "name": "python3"
  },
  "language_info": {
   "codemirror_mode": {
    "name": "ipython",
    "version": 3
   },
   "file_extension": ".py",
   "mimetype": "text/x-python",
   "name": "python",
   "nbconvert_exporter": "python",
   "pygments_lexer": "ipython3",
   "version": "3.9.13"
  }
 },
 "nbformat": 4,
 "nbformat_minor": 5
}
