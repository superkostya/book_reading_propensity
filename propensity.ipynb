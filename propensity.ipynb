{
 "cells": [
  {
   "cell_type": "markdown",
   "id": "ccf2c69d-1755-4ad3-a5a9-4dd52a447168",
   "metadata": {},
   "source": [
    "# Book Reading Propensity"
   ]
  },
  {
   "cell_type": "code",
   "execution_count": 27,
   "id": "e995e6c8-bcc6-4257-b589-ef0d819f9db8",
   "metadata": {},
   "outputs": [],
   "source": [
    "import pandas as pd\n",
    "import numpy as np\n",
    "import os"
   ]
  },
  {
   "cell_type": "markdown",
   "id": "9897f13f-5e0f-468f-a52f-f4c647c59200",
   "metadata": {},
   "source": [
    "## Read the Data"
   ]
  },
  {
   "cell_type": "code",
   "execution_count": 78,
   "id": "2a763aa6-5078-47d3-8719-1774c9122832",
   "metadata": {},
   "outputs": [],
   "source": [
    "df = pd.read_csv(\"./data/goodreads_interactions_fantasy_paranormal_2016_pairs.csv\",\n",
    "                dtype={'book_id':'Int64'})"
   ]
  },
  {
   "cell_type": "code",
   "execution_count": 79,
   "id": "735cefe4-3e99-4a98-a184-9bae227cf3b3",
   "metadata": {},
   "outputs": [
    {
     "data": {
      "text/plain": [
       "(3813915, 4)"
      ]
     },
     "execution_count": 79,
     "metadata": {},
     "output_type": "execute_result"
    }
   ],
   "source": [
    "df.shape"
   ]
  },
  {
   "cell_type": "code",
   "execution_count": 80,
   "id": "d0eb8694-068a-4ae9-af63-c412764e8339",
   "metadata": {},
   "outputs": [
    {
     "data": {
      "text/html": [
       "<div>\n",
       "<style scoped>\n",
       "    .dataframe tbody tr th:only-of-type {\n",
       "        vertical-align: middle;\n",
       "    }\n",
       "\n",
       "    .dataframe tbody tr th {\n",
       "        vertical-align: top;\n",
       "    }\n",
       "\n",
       "    .dataframe thead th {\n",
       "        text-align: right;\n",
       "    }\n",
       "</style>\n",
       "<table border=\"1\" class=\"dataframe\">\n",
       "  <thead>\n",
       "    <tr style=\"text-align: right;\">\n",
       "      <th></th>\n",
       "      <th>user_id</th>\n",
       "      <th>book_id</th>\n",
       "      <th>date_updated</th>\n",
       "      <th>rating</th>\n",
       "    </tr>\n",
       "  </thead>\n",
       "  <tbody>\n",
       "    <tr>\n",
       "      <th>0</th>\n",
       "      <td>8842281e1d1347389f2ab93d60773d4d</td>\n",
       "      <td>29058155</td>\n",
       "      <td>Tue Dec 13 11:00:02 -0800 2016</td>\n",
       "      <td>3</td>\n",
       "    </tr>\n",
       "    <tr>\n",
       "      <th>1</th>\n",
       "      <td>8842281e1d1347389f2ab93d60773d4d</td>\n",
       "      <td>10673579</td>\n",
       "      <td>Fri Jan 08 01:49:56 -0800 2016</td>\n",
       "      <td>5</td>\n",
       "    </tr>\n",
       "    <tr>\n",
       "      <th>2</th>\n",
       "      <td>8842281e1d1347389f2ab93d60773d4d</td>\n",
       "      <td>76620</td>\n",
       "      <td>Wed Dec 14 12:30:43 -0800 2016</td>\n",
       "      <td>5</td>\n",
       "    </tr>\n",
       "    <tr>\n",
       "      <th>3</th>\n",
       "      <td>7504b2aee1ecb5b2872d3da381c6c91e</td>\n",
       "      <td>29069989</td>\n",
       "      <td>Wed Aug 17 19:17:26 -0700 2016</td>\n",
       "      <td>2</td>\n",
       "    </tr>\n",
       "    <tr>\n",
       "      <th>4</th>\n",
       "      <td>7504b2aee1ecb5b2872d3da381c6c91e</td>\n",
       "      <td>8882815</td>\n",
       "      <td>Tue Jun 21 16:10:18 -0700 2016</td>\n",
       "      <td>3</td>\n",
       "    </tr>\n",
       "  </tbody>\n",
       "</table>\n",
       "</div>"
      ],
      "text/plain": [
       "                            user_id   book_id                    date_updated  \\\n",
       "0  8842281e1d1347389f2ab93d60773d4d  29058155  Tue Dec 13 11:00:02 -0800 2016   \n",
       "1  8842281e1d1347389f2ab93d60773d4d  10673579  Fri Jan 08 01:49:56 -0800 2016   \n",
       "2  8842281e1d1347389f2ab93d60773d4d     76620  Wed Dec 14 12:30:43 -0800 2016   \n",
       "3  7504b2aee1ecb5b2872d3da381c6c91e  29069989  Wed Aug 17 19:17:26 -0700 2016   \n",
       "4  7504b2aee1ecb5b2872d3da381c6c91e   8882815  Tue Jun 21 16:10:18 -0700 2016   \n",
       "\n",
       "   rating  \n",
       "0       3  \n",
       "1       5  \n",
       "2       5  \n",
       "3       2  \n",
       "4       3  "
      ]
     },
     "execution_count": 80,
     "metadata": {},
     "output_type": "execute_result"
    }
   ],
   "source": [
    "df.head()"
   ]
  },
  {
   "cell_type": "code",
   "execution_count": 81,
   "id": "d11f5c3e-82a7-4778-bccd-8b9d4488dec3",
   "metadata": {},
   "outputs": [
    {
     "data": {
      "text/plain": [
       "user_id         object\n",
       "book_id          Int64\n",
       "date_updated    object\n",
       "rating           int64\n",
       "dtype: object"
      ]
     },
     "execution_count": 81,
     "metadata": {},
     "output_type": "execute_result"
    }
   ],
   "source": [
    "df.dtypes"
   ]
  },
  {
   "cell_type": "code",
   "execution_count": 82,
   "id": "f64e1a4d-2260-4063-8d5d-4a8db7aef0c3",
   "metadata": {},
   "outputs": [
    {
     "data": {
      "text/html": [
       "<div>\n",
       "<style scoped>\n",
       "    .dataframe tbody tr th:only-of-type {\n",
       "        vertical-align: middle;\n",
       "    }\n",
       "\n",
       "    .dataframe tbody tr th {\n",
       "        vertical-align: top;\n",
       "    }\n",
       "\n",
       "    .dataframe thead th {\n",
       "        text-align: right;\n",
       "    }\n",
       "</style>\n",
       "<table border=\"1\" class=\"dataframe\">\n",
       "  <thead>\n",
       "    <tr style=\"text-align: right;\">\n",
       "      <th></th>\n",
       "      <th>user_id</th>\n",
       "      <th>book_id</th>\n",
       "      <th>date_updated</th>\n",
       "      <th>rating</th>\n",
       "      <th>ts</th>\n",
       "    </tr>\n",
       "  </thead>\n",
       "  <tbody>\n",
       "    <tr>\n",
       "      <th>0</th>\n",
       "      <td>8842281e1d1347389f2ab93d60773d4d</td>\n",
       "      <td>29058155</td>\n",
       "      <td>Tue Dec 13 11:00:02 -0800 2016</td>\n",
       "      <td>3</td>\n",
       "      <td>2016-12-13 11:00:02-08:00</td>\n",
       "    </tr>\n",
       "    <tr>\n",
       "      <th>1</th>\n",
       "      <td>8842281e1d1347389f2ab93d60773d4d</td>\n",
       "      <td>10673579</td>\n",
       "      <td>Fri Jan 08 01:49:56 -0800 2016</td>\n",
       "      <td>5</td>\n",
       "      <td>2016-01-08 01:49:56-08:00</td>\n",
       "    </tr>\n",
       "    <tr>\n",
       "      <th>2</th>\n",
       "      <td>8842281e1d1347389f2ab93d60773d4d</td>\n",
       "      <td>76620</td>\n",
       "      <td>Wed Dec 14 12:30:43 -0800 2016</td>\n",
       "      <td>5</td>\n",
       "      <td>2016-12-14 12:30:43-08:00</td>\n",
       "    </tr>\n",
       "    <tr>\n",
       "      <th>3</th>\n",
       "      <td>7504b2aee1ecb5b2872d3da381c6c91e</td>\n",
       "      <td>29069989</td>\n",
       "      <td>Wed Aug 17 19:17:26 -0700 2016</td>\n",
       "      <td>2</td>\n",
       "      <td>2016-08-17 19:17:26-07:00</td>\n",
       "    </tr>\n",
       "    <tr>\n",
       "      <th>4</th>\n",
       "      <td>7504b2aee1ecb5b2872d3da381c6c91e</td>\n",
       "      <td>8882815</td>\n",
       "      <td>Tue Jun 21 16:10:18 -0700 2016</td>\n",
       "      <td>3</td>\n",
       "      <td>2016-06-21 16:10:18-07:00</td>\n",
       "    </tr>\n",
       "  </tbody>\n",
       "</table>\n",
       "</div>"
      ],
      "text/plain": [
       "                            user_id   book_id                    date_updated  \\\n",
       "0  8842281e1d1347389f2ab93d60773d4d  29058155  Tue Dec 13 11:00:02 -0800 2016   \n",
       "1  8842281e1d1347389f2ab93d60773d4d  10673579  Fri Jan 08 01:49:56 -0800 2016   \n",
       "2  8842281e1d1347389f2ab93d60773d4d     76620  Wed Dec 14 12:30:43 -0800 2016   \n",
       "3  7504b2aee1ecb5b2872d3da381c6c91e  29069989  Wed Aug 17 19:17:26 -0700 2016   \n",
       "4  7504b2aee1ecb5b2872d3da381c6c91e   8882815  Tue Jun 21 16:10:18 -0700 2016   \n",
       "\n",
       "   rating                         ts  \n",
       "0       3  2016-12-13 11:00:02-08:00  \n",
       "1       5  2016-01-08 01:49:56-08:00  \n",
       "2       5  2016-12-14 12:30:43-08:00  \n",
       "3       2  2016-08-17 19:17:26-07:00  \n",
       "4       3  2016-06-21 16:10:18-07:00  "
      ]
     },
     "execution_count": 82,
     "metadata": {},
     "output_type": "execute_result"
    }
   ],
   "source": [
    "datetime_format = '%a %b %d %H:%M:%S %z %Y'\n",
    "df['ts'] = pd.to_datetime(df['date_updated'], format=datetime_format, errors='raise')\n",
    "df.head()"
   ]
  },
  {
   "cell_type": "code",
   "execution_count": 90,
   "id": "44c2d1fd-62dd-445a-bb38-beead04cb9db",
   "metadata": {},
   "outputs": [
    {
     "data": {
      "text/html": [
       "<div>\n",
       "<style scoped>\n",
       "    .dataframe tbody tr th:only-of-type {\n",
       "        vertical-align: middle;\n",
       "    }\n",
       "\n",
       "    .dataframe tbody tr th {\n",
       "        vertical-align: top;\n",
       "    }\n",
       "\n",
       "    .dataframe thead th {\n",
       "        text-align: right;\n",
       "    }\n",
       "</style>\n",
       "<table border=\"1\" class=\"dataframe\">\n",
       "  <thead>\n",
       "    <tr style=\"text-align: right;\">\n",
       "      <th></th>\n",
       "      <th>user_id</th>\n",
       "      <th>book_id</th>\n",
       "      <th>date_updated</th>\n",
       "      <th>rating</th>\n",
       "      <th>ts</th>\n",
       "      <th>month</th>\n",
       "      <th>day</th>\n",
       "      <th>hour</th>\n",
       "    </tr>\n",
       "  </thead>\n",
       "  <tbody>\n",
       "    <tr>\n",
       "      <th>0</th>\n",
       "      <td>8842281e1d1347389f2ab93d60773d4d</td>\n",
       "      <td>29058155</td>\n",
       "      <td>Tue Dec 13 11:00:02 -0800 2016</td>\n",
       "      <td>3</td>\n",
       "      <td>2016-12-13 11:00:02-08:00</td>\n",
       "      <td>12</td>\n",
       "      <td>13</td>\n",
       "      <td>11</td>\n",
       "    </tr>\n",
       "    <tr>\n",
       "      <th>1</th>\n",
       "      <td>8842281e1d1347389f2ab93d60773d4d</td>\n",
       "      <td>10673579</td>\n",
       "      <td>Fri Jan 08 01:49:56 -0800 2016</td>\n",
       "      <td>5</td>\n",
       "      <td>2016-01-08 01:49:56-08:00</td>\n",
       "      <td>1</td>\n",
       "      <td>8</td>\n",
       "      <td>1</td>\n",
       "    </tr>\n",
       "    <tr>\n",
       "      <th>2</th>\n",
       "      <td>8842281e1d1347389f2ab93d60773d4d</td>\n",
       "      <td>76620</td>\n",
       "      <td>Wed Dec 14 12:30:43 -0800 2016</td>\n",
       "      <td>5</td>\n",
       "      <td>2016-12-14 12:30:43-08:00</td>\n",
       "      <td>12</td>\n",
       "      <td>14</td>\n",
       "      <td>12</td>\n",
       "    </tr>\n",
       "    <tr>\n",
       "      <th>3</th>\n",
       "      <td>7504b2aee1ecb5b2872d3da381c6c91e</td>\n",
       "      <td>29069989</td>\n",
       "      <td>Wed Aug 17 19:17:26 -0700 2016</td>\n",
       "      <td>2</td>\n",
       "      <td>2016-08-17 19:17:26-07:00</td>\n",
       "      <td>8</td>\n",
       "      <td>17</td>\n",
       "      <td>19</td>\n",
       "    </tr>\n",
       "    <tr>\n",
       "      <th>4</th>\n",
       "      <td>7504b2aee1ecb5b2872d3da381c6c91e</td>\n",
       "      <td>8882815</td>\n",
       "      <td>Tue Jun 21 16:10:18 -0700 2016</td>\n",
       "      <td>3</td>\n",
       "      <td>2016-06-21 16:10:18-07:00</td>\n",
       "      <td>6</td>\n",
       "      <td>21</td>\n",
       "      <td>16</td>\n",
       "    </tr>\n",
       "  </tbody>\n",
       "</table>\n",
       "</div>"
      ],
      "text/plain": [
       "                            user_id   book_id                    date_updated  \\\n",
       "0  8842281e1d1347389f2ab93d60773d4d  29058155  Tue Dec 13 11:00:02 -0800 2016   \n",
       "1  8842281e1d1347389f2ab93d60773d4d  10673579  Fri Jan 08 01:49:56 -0800 2016   \n",
       "2  8842281e1d1347389f2ab93d60773d4d     76620  Wed Dec 14 12:30:43 -0800 2016   \n",
       "3  7504b2aee1ecb5b2872d3da381c6c91e  29069989  Wed Aug 17 19:17:26 -0700 2016   \n",
       "4  7504b2aee1ecb5b2872d3da381c6c91e   8882815  Tue Jun 21 16:10:18 -0700 2016   \n",
       "\n",
       "   rating                         ts  month  day  hour  \n",
       "0       3  2016-12-13 11:00:02-08:00     12   13    11  \n",
       "1       5  2016-01-08 01:49:56-08:00      1    8     1  \n",
       "2       5  2016-12-14 12:30:43-08:00     12   14    12  \n",
       "3       2  2016-08-17 19:17:26-07:00      8   17    19  \n",
       "4       3  2016-06-21 16:10:18-07:00      6   21    16  "
      ]
     },
     "execution_count": 90,
     "metadata": {},
     "output_type": "execute_result"
    }
   ],
   "source": [
    "df['month'] = df['ts'].apply(lambda x: x.month)\n",
    "df['day'] = df['ts'].apply(lambda x: x.day)\n",
    "df['hour'] = df['ts'].apply(lambda x: x.hour)\n",
    "\n",
    "df.head()"
   ]
  },
  {
   "cell_type": "code",
   "execution_count": 92,
   "id": "dbcc16ac-b481-4de9-b5f8-a179d874c6dc",
   "metadata": {},
   "outputs": [],
   "source": [
    "df[['user_id','book_id','month','day', 'hour', 'rating']].to_csv('./data/goodreads_pairs_2016_enhanced.csv', \n",
    "                                                                 index=False)"
   ]
  },
  {
   "cell_type": "code",
   "execution_count": null,
   "id": "6e22c55f-b9aa-4556-8f5b-5e2dda3847d6",
   "metadata": {},
   "outputs": [],
   "source": []
  }
 ],
 "metadata": {
  "kernelspec": {
   "display_name": "Python 3 (ipykernel)",
   "language": "python",
   "name": "python3"
  },
  "language_info": {
   "codemirror_mode": {
    "name": "ipython",
    "version": 3
   },
   "file_extension": ".py",
   "mimetype": "text/x-python",
   "name": "python",
   "nbconvert_exporter": "python",
   "pygments_lexer": "ipython3",
   "version": "3.9.13"
  }
 },
 "nbformat": 4,
 "nbformat_minor": 5
}
