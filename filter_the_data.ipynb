{
 "cells": [
  {
   "cell_type": "markdown",
   "id": "ccf2c69d-1755-4ad3-a5a9-4dd52a447168",
   "metadata": {},
   "source": [
    "# Book Reading Propensity: Filtering the Data"
   ]
  },
  {
   "cell_type": "code",
   "execution_count": 1,
   "id": "e995e6c8-bcc6-4257-b589-ef0d819f9db8",
   "metadata": {},
   "outputs": [],
   "source": [
    "import pandas as pd\n",
    "import json\n",
    "import os"
   ]
  },
  {
   "cell_type": "markdown",
   "id": "692c21a5-fc1a-4747-ba20-071bda93a7d6",
   "metadata": {},
   "source": [
    "## Filter the Data: "
   ]
  },
  {
   "cell_type": "code",
   "execution_count": 2,
   "id": "53fe33c7-4d36-423b-9f79-f32e936cca1a",
   "metadata": {},
   "outputs": [],
   "source": [
    "data_file = \"./data/goodreads_interactions_fantasy_paranormal.json\"\n",
    "data_file_filtered = \"./data/goodreads_interactions_fantasy_paranormal_2016.json\"\n"
   ]
  },
  {
   "cell_type": "code",
   "execution_count": 3,
   "id": "d50dba03-9e45-4946-9b9d-8e99a5631bb5",
   "metadata": {},
   "outputs": [
    {
     "name": "stdout",
     "output_type": "stream",
     "text": [
      "{\"user_id\": \"8842281e1d1347389f2ab93d60773d4d\", \"book_id\": \"19161852\", \"review_id\": \"4443cb6883624c3772625ef5b7b4e138\", \"is_read\": false, \"rating\": 0, \"review_text_incomplete\": \"\", \"date_added\": \"Fri Sep 08 10:44:24 -0700 2017\", \"date_updated\": \"Fri Sep 08 10:44:24 -0700 2017\", \"read_at\": \"\", \"started_at\": \"\"}\n",
      "\n"
     ]
    }
   ],
   "source": [
    "cnt = 0\n",
    "with open(data_file, \"r\") as f:\n",
    "    line = f.readline()\n",
    "    print(line)\n",
    "    cnt += 1\n",
    "    # if cnt > 10:\n",
    "    #     break"
   ]
  },
  {
   "cell_type": "code",
   "execution_count": 15,
   "id": "3cda5ff4-ce2d-47ea-b6f7-4a37749ef3f5",
   "metadata": {
    "tags": []
   },
   "outputs": [
    {
     "name": "stdout",
     "output_type": "stream",
     "text": [
      "Relevant Record Count:  1,000,000. Total records inspected:  7,191,867\n",
      "Relevant Record Count:  2,000,000. Total records inspected: 13,981,481\n",
      "Relevant Record Count:  3,000,000. Total records inspected: 20,156,727\n",
      "Relevant Record Count:  4,000,000. Total records inspected: 25,717,217\n",
      "Relevant Record Count:  5,000,000. Total records inspected: 30,759,259\n",
      "Relevant Record Count:  6,000,000. Total records inspected: 35,226,872\n",
      "Relevant Record Count:  7,000,000. Total records inspected: 38,337,797\n",
      "Relevant Record Count:  8,000,000. Total records inspected: 42,209,869\n",
      "Relevant Record Count:  9,000,000. Total records inspected: 50,634,669\n",
      "----------------------------------------------------------------------\n",
      "Final Record Count (Input):           55,397,550\n",
      "Final Relevant Record Count (Output):  9,779,053\n",
      "----------------------------------------------------------------------\n",
      "CPU times: user 5min 5s, sys: 6.76 s, total: 5min 12s\n",
      "Wall time: 5min 17s\n"
     ]
    }
   ],
   "source": [
    "%%time\n",
    "\n",
    "cnt = 0\n",
    "cnt_relevant = 0\n",
    "\n",
    "with open(data_file, \"r\") as fr:\n",
    "    with open(data_file_filtered, \"w\") as fw:\n",
    "        for line in fr:\n",
    "            # print(line)\n",
    "            cnt += 1\n",
    "            try:\n",
    "                record = json.loads(line)\n",
    "            except Exception as e:\n",
    "                print(f'Failed to convert the line to a dict:\\n{line}')\n",
    "                print('Exception ----------------------------- \\n', e)\n",
    "                continue\n",
    "            \n",
    "            date_updated = record.get(\"date_updated\", \"\")\n",
    "            read_at = record.get(\"read_at\", \"\")\n",
    "            combo = date_updated + ' ' + read_at\n",
    "            if '2016' in combo:\n",
    "                try:\n",
    "                    json.dump(record, fw)\n",
    "                    fw.write('\\n')\n",
    "                except Exception as e:\n",
    "                    print(f'Failed to write the line to file:\\n{line}')\n",
    "                    print('Exception ----------------------------- \\n', e)\n",
    "                    continue\n",
    "                cnt_relevant += 1\n",
    "                if cnt_relevant != 0 and cnt_relevant % 1000000 == 0:\n",
    "                    print(f'Relevant Record Count: {cnt_relevant:>10,d}. Total records inspected: {cnt:>10,d}')\n",
    "                \n",
    "\n",
    "\n",
    "            # if cnt > 30:\n",
    "            #     break\n",
    "print('-'*70)\n",
    "print(f'Final Record Count (Input):           {cnt:>10,d}')\n",
    "print(f'Final Relevant Record Count (Output): {cnt_relevant:10,d}')\n",
    "print('-'*70)"
   ]
  },
  {
   "cell_type": "code",
   "execution_count": 16,
   "id": "ea4695c6-9349-4d5f-8ae7-f7ace368da20",
   "metadata": {},
   "outputs": [
    {
     "name": "stdout",
     "output_type": "stream",
     "text": [
      "Record # 0\n",
      "{\"user_id\": \"8842281e1d1347389f2ab93d60773d4d\", \"book_id\": \"17554595\", \"review_id\": \"c6fcd1758f10474be583c6c0bea2bc07\", \"is_read\": false, \"rating\": 0, \"review_text_incomplete\": \"\", \"date_added\": \"Tue Dec 06 12:08:34 -0800 2016\", \"date_updated\": \"Tue Dec 06 12:08:35 -0800 2016\", \"read_at\": \"\", \"started_at\": \"\"}\n",
      "\n",
      "Record # 1\n",
      "{\"user_id\": \"8842281e1d1347389f2ab93d60773d4d\", \"book_id\": \"18423\", \"review_id\": \"626f7f3a77c4aa1bd0c8f868966f2f20\", \"is_read\": false, \"rating\": 0, \"review_text_incomplete\": \"\", \"date_added\": \"Fri Oct 28 14:44:57 -0700 2016\", \"date_updated\": \"Fri Oct 28 14:44:57 -0700 2016\", \"read_at\": \"\", \"started_at\": \"\"}\n",
      "\n",
      "Record # 2\n",
      "{\"user_id\": \"8842281e1d1347389f2ab93d60773d4d\", \"book_id\": \"29058155\", \"review_id\": \"3759ba2b18dd09eb5e844a116f0ce06a\", \"is_read\": true, \"rating\": 3, \"review_text_incomplete\": \"\", \"date_added\": \"Mon Jul 25 14:29:33 -0700 2016\", \"date_updated\": \"Tue Dec 13 11:00:02 -0800 2016\", \"read_at\": \"Sat Aug 20 00:00:00 -0700 2016\", \"started_at\": \"Wed Aug 17 00:00:00 -0700 2016\"}\n",
      "\n",
      "Final Record Count: 9779052\n"
     ]
    }
   ],
   "source": [
    "# TEST\n",
    "\n",
    "count = 0\n",
    "with open(data_file_filtered, \"r\") as f:\n",
    "    for i, line in enumerate(f):\n",
    "        count = i\n",
    "        if i < 3:\n",
    "            print(f'Record # {i}')\n",
    "            print(line)\n",
    "print(f'Final Record Count: {count}')"
   ]
  },
  {
   "cell_type": "code",
   "execution_count": null,
   "id": "6459995c-5753-4aec-96f4-e32621272dc2",
   "metadata": {},
   "outputs": [],
   "source": []
  }
 ],
 "metadata": {
  "kernelspec": {
   "display_name": "Python 3 (ipykernel)",
   "language": "python",
   "name": "python3"
  },
  "language_info": {
   "codemirror_mode": {
    "name": "ipython",
    "version": 3
   },
   "file_extension": ".py",
   "mimetype": "text/x-python",
   "name": "python",
   "nbconvert_exporter": "python",
   "pygments_lexer": "ipython3",
   "version": "3.9.13"
  }
 },
 "nbformat": 4,
 "nbformat_minor": 5
}
