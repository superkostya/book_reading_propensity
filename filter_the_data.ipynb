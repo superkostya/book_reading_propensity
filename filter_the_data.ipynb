{
 "cells": [
  {
   "cell_type": "markdown",
   "id": "ccf2c69d-1755-4ad3-a5a9-4dd52a447168",
   "metadata": {
    "tags": []
   },
   "source": [
    "# Book Reading Propensity: Filtering the Data"
   ]
  },
  {
   "cell_type": "code",
   "execution_count": 1,
   "id": "e995e6c8-bcc6-4257-b589-ef0d819f9db8",
   "metadata": {},
   "outputs": [],
   "source": [
    "import pandas as pd\n",
    "import json\n",
    "import os"
   ]
  },
  {
   "cell_type": "markdown",
   "id": "692c21a5-fc1a-4747-ba20-071bda93a7d6",
   "metadata": {
    "tags": []
   },
   "source": [
    "## Filter the Data: "
   ]
  },
  {
   "cell_type": "code",
   "execution_count": 47,
   "id": "53fe33c7-4d36-423b-9f79-f32e936cca1a",
   "metadata": {},
   "outputs": [],
   "source": [
    "data_file = \"./data/goodreads_interactions_fantasy_paranormal.json\"\n",
    "# data_file_filtered = \"./data/goodreads_interactions_fantasy_paranormal_2016.json\"\n",
    "# data_file_filtered_paired = \"./data/goodreads_interactions_fantasy_paranormal_2016_pairs.json\"\n",
    "data_file_filtered_paired_csv = \"./data/goodreads_interactions_fantasy_paranormal_2016_pairs.csv\""
   ]
  },
  {
   "cell_type": "markdown",
   "id": "0ce9e287-9acb-4a9f-8ad6-f6d8f19e0d48",
   "metadata": {
    "tags": []
   },
   "source": [
    "### Look at the first record"
   ]
  },
  {
   "cell_type": "code",
   "execution_count": 28,
   "id": "d50dba03-9e45-4946-9b9d-8e99a5631bb5",
   "metadata": {},
   "outputs": [
    {
     "name": "stdout",
     "output_type": "stream",
     "text": [
      "{\"user_id\": \"8842281e1d1347389f2ab93d60773d4d\", \"book_id\": \"19161852\", \"review_id\": \"4443cb6883624c3772625ef5b7b4e138\", \"is_read\": false, \"rating\": 0, \"review_text_incomplete\": \"\", \"date_added\": \"Fri Sep 08 10:44:24 -0700 2017\", \"date_updated\": \"Fri Sep 08 10:44:24 -0700 2017\", \"read_at\": \"\", \"started_at\": \"\"}\n",
      "\n",
      "user_id:                   8842281e1d1347389f2ab93d60773d4d\n",
      "book_id:                                           19161852\n",
      "review_id:                   4443cb6883624c3772625ef5b7b4e138\n",
      "is_read:                                                  0\n",
      "rating:                                                  0\n",
      "review_text_incomplete:                                               NULL\n",
      "date_added:                     Fri Sep 08 10:44:24 -0700 2017\n",
      "date_updated:                     Fri Sep 08 10:44:24 -0700 2017\n",
      "read_at:                                               NULL\n",
      "started_at:                                               NULL\n"
     ]
    }
   ],
   "source": [
    "# Read a single record\n",
    "with open(data_file, \"r\") as f:\n",
    "    line = f.readline()\n",
    "    print(line)\n",
    "    record = json.loads(line)\n",
    "    for k,v in record.items():\n",
    "        v_upd = v if (v is not None and v != '') else 'NULL'\n",
    "        print(f'{k}: {v_upd:>50}')"
   ]
  },
  {
   "cell_type": "markdown",
   "id": "acafeb35-9fe2-43bc-81ab-dbbff7acc87d",
   "metadata": {},
   "source": [
    "### Question: Which field should we use as a timestamp?"
   ]
  },
  {
   "cell_type": "code",
   "execution_count": 39,
   "id": "3cda5ff4-ce2d-47ea-b6f7-4a37749ef3f5",
   "metadata": {
    "tags": []
   },
   "outputs": [
    {
     "name": "stdout",
     "output_type": "stream",
     "text": [
      "Relevant Record Count:  1,000,000. Total records inspected:  7,191,867\n",
      "Relevant Record Count:  2,000,000. Total records inspected: 13,981,481\n",
      "Relevant Record Count:  3,000,000. Total records inspected: 20,156,727\n",
      "Relevant Record Count:  4,000,000. Total records inspected: 25,717,217\n",
      "Relevant Record Count:  5,000,000. Total records inspected: 30,759,259\n",
      "Relevant Record Count:  6,000,000. Total records inspected: 35,226,872\n",
      "Relevant Record Count:  7,000,000. Total records inspected: 38,337,797\n",
      "Relevant Record Count:  8,000,000. Total records inspected: 42,209,869\n",
      "Relevant Record Count:  9,000,000. Total records inspected: 50,634,669\n",
      "----------------------------------------------------------------------\n",
      "Final Record Count (Input):           55,397,550\n",
      "Final Relevant Record Count (Output):  9,779,053\n",
      "--------------------------------------------------\n",
      "NULL Count in \"date_updated\":          0\n",
      "NULL Count in \"read_at\":  7,214,855\n",
      "Rating 0:  5,806,330\n",
      "Rating 3:    764,680\n",
      "Rating 5:  1,553,402\n",
      "Rating 2:    199,186\n",
      "Rating 4:  1,385,610\n",
      "Rating 1:     69,845\n",
      "----------------------------------------------------------------------\n",
      "CPU times: user 3min 41s, sys: 4.11 s, total: 3min 45s\n",
      "Wall time: 3min 46s\n"
     ]
    }
   ],
   "source": [
    "%%time\n",
    "\n",
    "cnt = 0\n",
    "cnt_relevant = 0\n",
    "\n",
    "mandatory_fields = ['date_updated', 'read_at', 'rating']\n",
    "\n",
    "cnt_date_updated_null = 0\n",
    "cnt_read_at_null = 0\n",
    "rating_counts = {} \n",
    "default_rating = 0\n",
    "\n",
    "with open(data_file, \"r\") as fr:\n",
    "\n",
    "    for line in fr:\n",
    "        # print(line)\n",
    "        cnt += 1\n",
    "        try:\n",
    "            record = json.loads(line)\n",
    "        except Exception as e:\n",
    "            print(f'Failed to convert the line to a dict:\\n{line}')\n",
    "            print('Exception ----------------------------- \\n', e)\n",
    "            continue\n",
    "\n",
    "        # Get only the mandatory columns\n",
    "        record_mandatory_fields = {}\n",
    "        for field in mandatory_fields:\n",
    "            if field != 'rating':\n",
    "                record_mandatory_fields[field] = record.get(field, \"\")\n",
    "            else:\n",
    "                record_mandatory_fields[field] = record.get(field, default_rating)\n",
    "\n",
    "        # FILTER: Keep only the entries from the year 2016\n",
    "        # combo = date_updated + ' ' + read_at\n",
    "        combo_date = record_mandatory_fields['date_updated'] + ' ' + record_mandatory_fields['read_at']\n",
    "        if '2016' in combo_date:\n",
    "            cnt_relevant += 1\n",
    "            if record_mandatory_fields['date_updated'] == '':\n",
    "                cnt_date_updated_null += 1\n",
    "            if record_mandatory_fields['read_at'] == '':\n",
    "                cnt_read_at_null += 1\n",
    "            \n",
    "            rating_counts[record_mandatory_fields['rating']] = rating_counts.get(record_mandatory_fields['rating'], 0) + 1\n",
    "\n",
    "            if cnt_relevant != 0 and cnt_relevant % 1000000 == 0:\n",
    "                print(f'Relevant Record Count: {cnt_relevant:>10,d}. Total records inspected: {cnt:>10,d}')\n",
    "\n",
    "print('-'*70)\n",
    "print(f'Final Record Count (Input):           {cnt:>10,d}')\n",
    "print(f'Final Relevant Record Count (Output): {cnt_relevant:10,d}')\n",
    "print('-'*50)\n",
    "print(f'NULL Count in \"date_updated\": {cnt_date_updated_null:10,d}')\n",
    "print(f'NULL Count in \"read_at\": {cnt_read_at_null:10,d}')\n",
    "print('-'*50)\n",
    "for k,v in rating_counts.items():\n",
    "    print(f'Rating {k:>}: {v:>10,d}')\n",
    "print('-'*70)"
   ]
  },
  {
   "cell_type": "code",
   "execution_count": 40,
   "id": "a767c255-e717-41af-8abb-585327938a98",
   "metadata": {},
   "outputs": [
    {
     "name": "stdout",
     "output_type": "stream",
     "text": [
      "Rating 0:  5,806,330\n",
      "Rating 1:     69,845\n",
      "Rating 2:    199,186\n",
      "Rating 3:    764,680\n",
      "Rating 4:  1,385,610\n",
      "Rating 5:  1,553,402\n"
     ]
    }
   ],
   "source": [
    "for k,v in sorted(rating_counts.items()):\n",
    "    print(f'Rating {k:>}: {v:>10,d}')"
   ]
  },
  {
   "cell_type": "markdown",
   "id": "578f40fc-cdf4-4958-a4e3-b42a7ea8b251",
   "metadata": {},
   "source": [
    "### Answer: `date_updated`\n",
    " * In the time window of interest (year 2016) only the field `date_updated` appears to be a reliable timestamp (no missing values)\n",
    " * At the same time, the field `read_at` is riddled with NULLs"
   ]
  },
  {
   "cell_type": "markdown",
   "id": "aadbb427-5e42-4dad-84cf-eba948b26688",
   "metadata": {},
   "source": [
    "### Main part: Filter the records, and save them in a new file\n",
    " * Only the records from the year 2016\n",
    " * Only the records where the rating is an integer number greater than zero (`raiting = 0` means no rating was provided)"
   ]
  },
  {
   "cell_type": "markdown",
   "id": "c42f03d1-2665-4a14-a18f-58c8a812bbe8",
   "metadata": {
    "tags": []
   },
   "source": [
    "#### Option 1: JSON (Abandoned as inefficient and impractical)"
   ]
  },
  {
   "cell_type": "markdown",
   "id": "3282c354-9448-4b42-af28-ec64ba6452c3",
   "metadata": {},
   "source": [
    "#### Option 2: CSV"
   ]
  },
  {
   "cell_type": "code",
   "execution_count": 51,
   "id": "08ea0f0e-121b-4f11-a985-3843eff353dc",
   "metadata": {
    "tags": []
   },
   "outputs": [
    {
     "name": "stdout",
     "output_type": "stream",
     "text": [
      "Relevant Record Count:  1,000,000. Total records inspected: 17,887,466\n",
      "Relevant Record Count:  2,000,000. Total records inspected: 32,449,697\n",
      "Relevant Record Count:  3,000,000. Total records inspected: 42,202,171\n",
      "----------------------------------------------------------------------\n",
      "Final Record Count (Input):           55,397,550\n",
      "Final Relevant Record Count (Output):  3,813,915\n",
      "----------------------------------------------------------------------\n",
      "CPU times: user 3min 51s, sys: 4.32 s, total: 3min 56s\n",
      "Wall time: 3min 58s\n"
     ]
    }
   ],
   "source": [
    "%%time\n",
    "\n",
    "cnt = 0\n",
    "cnt_relevant = 0\n",
    "\n",
    "mandatory_fields = ['user_id', 'book_id', 'date_updated', 'rating']\n",
    "default_rating = 0\n",
    "\n",
    "with open(data_file, \"r\") as fr:\n",
    "    with open(data_file_filtered_paired_csv, \"w\") as fw:\n",
    "        # Write the header:\n",
    "        fw.write(','.join(mandatory_fields) + '\\n')\n",
    "        # Read the input file, line by line\n",
    "        for line in fr:\n",
    "            cnt += 1\n",
    "            try:\n",
    "                record = json.loads(line)\n",
    "            except Exception as e:\n",
    "                print(f'Failed to convert the line to a dict:\\n{line}')\n",
    "                print('Exception ----------------------------- \\n', e)\n",
    "                continue\n",
    "            \n",
    "            # Get only the mandatory columns\n",
    "            record_mandatory_fields = {}\n",
    "            for field in mandatory_fields:\n",
    "                if field != 'rating':\n",
    "                    record_mandatory_fields[field] = record.get(field, \"\")\n",
    "                else:\n",
    "                    record_mandatory_fields[field] = record.get(field, default_rating)\n",
    "            \n",
    "            # FILTER: Keep only the entries from the year 2016\n",
    "            combo_date = record_mandatory_fields['date_updated'] + ' ' + record.get('read_at', \"\")\n",
    "            if ('2016' in record_mandatory_fields['date_updated']) and \\\n",
    "               (record_mandatory_fields['rating'] > 0):\n",
    "                try:\n",
    "                    # Add a line to the output file\n",
    "                    record_csv_line = ','.join([str(record_mandatory_fields[field]) for field in mandatory_fields])\n",
    "                    fw.write(record_csv_line + '\\n')\n",
    "                except Exception as e:\n",
    "                    print(f'Failed to write the line to file:\\n{line}')\n",
    "                    print('Exception ----------------------------- \\n', e)\n",
    "                    continue\n",
    "                cnt_relevant += 1\n",
    "                    \n",
    "                if cnt_relevant != 0 and cnt_relevant % 1000000 == 0:\n",
    "                    print(f'Relevant Record Count: {cnt_relevant:>10,d}. Total records inspected: {cnt:>10,d}')\n",
    "\n",
    "print('-'*70)\n",
    "print(f'Final Record Count (Input):           {cnt:>10,d}')\n",
    "print(f'Final Relevant Record Count (Output): {cnt_relevant:10,d}')\n",
    "print('-'*70)"
   ]
  },
  {
   "cell_type": "code",
   "execution_count": 52,
   "id": "34ad1a8a-7eac-4b59-927d-2010691de699",
   "metadata": {},
   "outputs": [
    {
     "name": "stdout",
     "output_type": "stream",
     "text": [
      "Record # 0\n",
      "user_id,book_id,date_updated,rating\n",
      "\n",
      "Record # 1\n",
      "8842281e1d1347389f2ab93d60773d4d,29058155,Tue Dec 13 11:00:02 -0800 2016,3\n",
      "\n",
      "Record # 2\n",
      "8842281e1d1347389f2ab93d60773d4d,10673579,Fri Jan 08 01:49:56 -0800 2016,5\n",
      "\n",
      "Final Record Count: 3,813,916\n"
     ]
    }
   ],
   "source": [
    "# TEST\n",
    "\n",
    "count = 0\n",
    "with open(data_file_filtered_paired_csv, \"r\") as f:\n",
    "    for i, line in enumerate(f):\n",
    "        count = i\n",
    "        if i < 3:\n",
    "            print(f'Record # {i}')\n",
    "            print(line)\n",
    "print(f'Final Record Count: {count+1:,}')"
   ]
  },
  {
   "cell_type": "markdown",
   "id": "b0c080ff-1f03-4f5a-83fa-2e02c2095342",
   "metadata": {},
   "source": [
    "## Read the CSV, Add Time Features"
   ]
  },
  {
   "cell_type": "code",
   "execution_count": 78,
   "id": "432d71e0-5967-4a9b-a310-25723431390c",
   "metadata": {},
   "outputs": [],
   "source": [
    "df = pd.read_csv(data_file_filtered_paired_csv,\n",
    "                dtype={'book_id':'Int64'})"
   ]
  },
  {
   "cell_type": "code",
   "execution_count": 79,
   "id": "b8d29039-6e6a-448a-940e-b47c65da231d",
   "metadata": {},
   "outputs": [
    {
     "data": {
      "text/plain": [
       "(3813915, 4)"
      ]
     },
     "execution_count": 79,
     "metadata": {},
     "output_type": "execute_result"
    }
   ],
   "source": [
    "df.shape"
   ]
  },
  {
   "cell_type": "code",
   "execution_count": 80,
   "id": "a74f78ed-1990-4ea2-9935-7f837b5aef16",
   "metadata": {},
   "outputs": [
    {
     "data": {
      "text/html": [
       "<div>\n",
       "<style scoped>\n",
       "    .dataframe tbody tr th:only-of-type {\n",
       "        vertical-align: middle;\n",
       "    }\n",
       "\n",
       "    .dataframe tbody tr th {\n",
       "        vertical-align: top;\n",
       "    }\n",
       "\n",
       "    .dataframe thead th {\n",
       "        text-align: right;\n",
       "    }\n",
       "</style>\n",
       "<table border=\"1\" class=\"dataframe\">\n",
       "  <thead>\n",
       "    <tr style=\"text-align: right;\">\n",
       "      <th></th>\n",
       "      <th>user_id</th>\n",
       "      <th>book_id</th>\n",
       "      <th>date_updated</th>\n",
       "      <th>rating</th>\n",
       "    </tr>\n",
       "  </thead>\n",
       "  <tbody>\n",
       "    <tr>\n",
       "      <th>0</th>\n",
       "      <td>8842281e1d1347389f2ab93d60773d4d</td>\n",
       "      <td>29058155</td>\n",
       "      <td>Tue Dec 13 11:00:02 -0800 2016</td>\n",
       "      <td>3</td>\n",
       "    </tr>\n",
       "    <tr>\n",
       "      <th>1</th>\n",
       "      <td>8842281e1d1347389f2ab93d60773d4d</td>\n",
       "      <td>10673579</td>\n",
       "      <td>Fri Jan 08 01:49:56 -0800 2016</td>\n",
       "      <td>5</td>\n",
       "    </tr>\n",
       "    <tr>\n",
       "      <th>2</th>\n",
       "      <td>8842281e1d1347389f2ab93d60773d4d</td>\n",
       "      <td>76620</td>\n",
       "      <td>Wed Dec 14 12:30:43 -0800 2016</td>\n",
       "      <td>5</td>\n",
       "    </tr>\n",
       "    <tr>\n",
       "      <th>3</th>\n",
       "      <td>7504b2aee1ecb5b2872d3da381c6c91e</td>\n",
       "      <td>29069989</td>\n",
       "      <td>Wed Aug 17 19:17:26 -0700 2016</td>\n",
       "      <td>2</td>\n",
       "    </tr>\n",
       "    <tr>\n",
       "      <th>4</th>\n",
       "      <td>7504b2aee1ecb5b2872d3da381c6c91e</td>\n",
       "      <td>8882815</td>\n",
       "      <td>Tue Jun 21 16:10:18 -0700 2016</td>\n",
       "      <td>3</td>\n",
       "    </tr>\n",
       "  </tbody>\n",
       "</table>\n",
       "</div>"
      ],
      "text/plain": [
       "                            user_id   book_id                    date_updated  \\\n",
       "0  8842281e1d1347389f2ab93d60773d4d  29058155  Tue Dec 13 11:00:02 -0800 2016   \n",
       "1  8842281e1d1347389f2ab93d60773d4d  10673579  Fri Jan 08 01:49:56 -0800 2016   \n",
       "2  8842281e1d1347389f2ab93d60773d4d     76620  Wed Dec 14 12:30:43 -0800 2016   \n",
       "3  7504b2aee1ecb5b2872d3da381c6c91e  29069989  Wed Aug 17 19:17:26 -0700 2016   \n",
       "4  7504b2aee1ecb5b2872d3da381c6c91e   8882815  Tue Jun 21 16:10:18 -0700 2016   \n",
       "\n",
       "   rating  \n",
       "0       3  \n",
       "1       5  \n",
       "2       5  \n",
       "3       2  \n",
       "4       3  "
      ]
     },
     "execution_count": 80,
     "metadata": {},
     "output_type": "execute_result"
    }
   ],
   "source": [
    "df.head()"
   ]
  },
  {
   "cell_type": "code",
   "execution_count": 81,
   "id": "cb81039d-fa2b-4f82-a585-30997ff1fd8e",
   "metadata": {},
   "outputs": [
    {
     "data": {
      "text/plain": [
       "user_id         object\n",
       "book_id          Int64\n",
       "date_updated    object\n",
       "rating           int64\n",
       "dtype: object"
      ]
     },
     "execution_count": 81,
     "metadata": {},
     "output_type": "execute_result"
    }
   ],
   "source": [
    "df.dtypes"
   ]
  },
  {
   "cell_type": "code",
   "execution_count": 82,
   "id": "c7807f64-7b3d-4bc7-87f3-38d756f5fa86",
   "metadata": {},
   "outputs": [
    {
     "data": {
      "text/html": [
       "<div>\n",
       "<style scoped>\n",
       "    .dataframe tbody tr th:only-of-type {\n",
       "        vertical-align: middle;\n",
       "    }\n",
       "\n",
       "    .dataframe tbody tr th {\n",
       "        vertical-align: top;\n",
       "    }\n",
       "\n",
       "    .dataframe thead th {\n",
       "        text-align: right;\n",
       "    }\n",
       "</style>\n",
       "<table border=\"1\" class=\"dataframe\">\n",
       "  <thead>\n",
       "    <tr style=\"text-align: right;\">\n",
       "      <th></th>\n",
       "      <th>user_id</th>\n",
       "      <th>book_id</th>\n",
       "      <th>date_updated</th>\n",
       "      <th>rating</th>\n",
       "      <th>ts</th>\n",
       "    </tr>\n",
       "  </thead>\n",
       "  <tbody>\n",
       "    <tr>\n",
       "      <th>0</th>\n",
       "      <td>8842281e1d1347389f2ab93d60773d4d</td>\n",
       "      <td>29058155</td>\n",
       "      <td>Tue Dec 13 11:00:02 -0800 2016</td>\n",
       "      <td>3</td>\n",
       "      <td>2016-12-13 11:00:02-08:00</td>\n",
       "    </tr>\n",
       "    <tr>\n",
       "      <th>1</th>\n",
       "      <td>8842281e1d1347389f2ab93d60773d4d</td>\n",
       "      <td>10673579</td>\n",
       "      <td>Fri Jan 08 01:49:56 -0800 2016</td>\n",
       "      <td>5</td>\n",
       "      <td>2016-01-08 01:49:56-08:00</td>\n",
       "    </tr>\n",
       "    <tr>\n",
       "      <th>2</th>\n",
       "      <td>8842281e1d1347389f2ab93d60773d4d</td>\n",
       "      <td>76620</td>\n",
       "      <td>Wed Dec 14 12:30:43 -0800 2016</td>\n",
       "      <td>5</td>\n",
       "      <td>2016-12-14 12:30:43-08:00</td>\n",
       "    </tr>\n",
       "    <tr>\n",
       "      <th>3</th>\n",
       "      <td>7504b2aee1ecb5b2872d3da381c6c91e</td>\n",
       "      <td>29069989</td>\n",
       "      <td>Wed Aug 17 19:17:26 -0700 2016</td>\n",
       "      <td>2</td>\n",
       "      <td>2016-08-17 19:17:26-07:00</td>\n",
       "    </tr>\n",
       "    <tr>\n",
       "      <th>4</th>\n",
       "      <td>7504b2aee1ecb5b2872d3da381c6c91e</td>\n",
       "      <td>8882815</td>\n",
       "      <td>Tue Jun 21 16:10:18 -0700 2016</td>\n",
       "      <td>3</td>\n",
       "      <td>2016-06-21 16:10:18-07:00</td>\n",
       "    </tr>\n",
       "  </tbody>\n",
       "</table>\n",
       "</div>"
      ],
      "text/plain": [
       "                            user_id   book_id                    date_updated  \\\n",
       "0  8842281e1d1347389f2ab93d60773d4d  29058155  Tue Dec 13 11:00:02 -0800 2016   \n",
       "1  8842281e1d1347389f2ab93d60773d4d  10673579  Fri Jan 08 01:49:56 -0800 2016   \n",
       "2  8842281e1d1347389f2ab93d60773d4d     76620  Wed Dec 14 12:30:43 -0800 2016   \n",
       "3  7504b2aee1ecb5b2872d3da381c6c91e  29069989  Wed Aug 17 19:17:26 -0700 2016   \n",
       "4  7504b2aee1ecb5b2872d3da381c6c91e   8882815  Tue Jun 21 16:10:18 -0700 2016   \n",
       "\n",
       "   rating                         ts  \n",
       "0       3  2016-12-13 11:00:02-08:00  \n",
       "1       5  2016-01-08 01:49:56-08:00  \n",
       "2       5  2016-12-14 12:30:43-08:00  \n",
       "3       2  2016-08-17 19:17:26-07:00  \n",
       "4       3  2016-06-21 16:10:18-07:00  "
      ]
     },
     "execution_count": 82,
     "metadata": {},
     "output_type": "execute_result"
    }
   ],
   "source": [
    "datetime_format = '%a %b %d %H:%M:%S %z %Y'\n",
    "df['ts'] = pd.to_datetime(df['date_updated'], format=datetime_format, errors='raise')\n",
    "df.head()"
   ]
  },
  {
   "cell_type": "code",
   "execution_count": 90,
   "id": "5e5104e3-fd9a-41b0-a00e-862c7e5790cc",
   "metadata": {},
   "outputs": [
    {
     "data": {
      "text/html": [
       "<div>\n",
       "<style scoped>\n",
       "    .dataframe tbody tr th:only-of-type {\n",
       "        vertical-align: middle;\n",
       "    }\n",
       "\n",
       "    .dataframe tbody tr th {\n",
       "        vertical-align: top;\n",
       "    }\n",
       "\n",
       "    .dataframe thead th {\n",
       "        text-align: right;\n",
       "    }\n",
       "</style>\n",
       "<table border=\"1\" class=\"dataframe\">\n",
       "  <thead>\n",
       "    <tr style=\"text-align: right;\">\n",
       "      <th></th>\n",
       "      <th>user_id</th>\n",
       "      <th>book_id</th>\n",
       "      <th>date_updated</th>\n",
       "      <th>rating</th>\n",
       "      <th>ts</th>\n",
       "      <th>month</th>\n",
       "      <th>day</th>\n",
       "      <th>hour</th>\n",
       "    </tr>\n",
       "  </thead>\n",
       "  <tbody>\n",
       "    <tr>\n",
       "      <th>0</th>\n",
       "      <td>8842281e1d1347389f2ab93d60773d4d</td>\n",
       "      <td>29058155</td>\n",
       "      <td>Tue Dec 13 11:00:02 -0800 2016</td>\n",
       "      <td>3</td>\n",
       "      <td>2016-12-13 11:00:02-08:00</td>\n",
       "      <td>12</td>\n",
       "      <td>13</td>\n",
       "      <td>11</td>\n",
       "    </tr>\n",
       "    <tr>\n",
       "      <th>1</th>\n",
       "      <td>8842281e1d1347389f2ab93d60773d4d</td>\n",
       "      <td>10673579</td>\n",
       "      <td>Fri Jan 08 01:49:56 -0800 2016</td>\n",
       "      <td>5</td>\n",
       "      <td>2016-01-08 01:49:56-08:00</td>\n",
       "      <td>1</td>\n",
       "      <td>8</td>\n",
       "      <td>1</td>\n",
       "    </tr>\n",
       "    <tr>\n",
       "      <th>2</th>\n",
       "      <td>8842281e1d1347389f2ab93d60773d4d</td>\n",
       "      <td>76620</td>\n",
       "      <td>Wed Dec 14 12:30:43 -0800 2016</td>\n",
       "      <td>5</td>\n",
       "      <td>2016-12-14 12:30:43-08:00</td>\n",
       "      <td>12</td>\n",
       "      <td>14</td>\n",
       "      <td>12</td>\n",
       "    </tr>\n",
       "    <tr>\n",
       "      <th>3</th>\n",
       "      <td>7504b2aee1ecb5b2872d3da381c6c91e</td>\n",
       "      <td>29069989</td>\n",
       "      <td>Wed Aug 17 19:17:26 -0700 2016</td>\n",
       "      <td>2</td>\n",
       "      <td>2016-08-17 19:17:26-07:00</td>\n",
       "      <td>8</td>\n",
       "      <td>17</td>\n",
       "      <td>19</td>\n",
       "    </tr>\n",
       "    <tr>\n",
       "      <th>4</th>\n",
       "      <td>7504b2aee1ecb5b2872d3da381c6c91e</td>\n",
       "      <td>8882815</td>\n",
       "      <td>Tue Jun 21 16:10:18 -0700 2016</td>\n",
       "      <td>3</td>\n",
       "      <td>2016-06-21 16:10:18-07:00</td>\n",
       "      <td>6</td>\n",
       "      <td>21</td>\n",
       "      <td>16</td>\n",
       "    </tr>\n",
       "  </tbody>\n",
       "</table>\n",
       "</div>"
      ],
      "text/plain": [
       "                            user_id   book_id                    date_updated  \\\n",
       "0  8842281e1d1347389f2ab93d60773d4d  29058155  Tue Dec 13 11:00:02 -0800 2016   \n",
       "1  8842281e1d1347389f2ab93d60773d4d  10673579  Fri Jan 08 01:49:56 -0800 2016   \n",
       "2  8842281e1d1347389f2ab93d60773d4d     76620  Wed Dec 14 12:30:43 -0800 2016   \n",
       "3  7504b2aee1ecb5b2872d3da381c6c91e  29069989  Wed Aug 17 19:17:26 -0700 2016   \n",
       "4  7504b2aee1ecb5b2872d3da381c6c91e   8882815  Tue Jun 21 16:10:18 -0700 2016   \n",
       "\n",
       "   rating                         ts  month  day  hour  \n",
       "0       3  2016-12-13 11:00:02-08:00     12   13    11  \n",
       "1       5  2016-01-08 01:49:56-08:00      1    8     1  \n",
       "2       5  2016-12-14 12:30:43-08:00     12   14    12  \n",
       "3       2  2016-08-17 19:17:26-07:00      8   17    19  \n",
       "4       3  2016-06-21 16:10:18-07:00      6   21    16  "
      ]
     },
     "execution_count": 90,
     "metadata": {},
     "output_type": "execute_result"
    }
   ],
   "source": [
    "df['month'] = df['ts'].apply(lambda x: x.month)\n",
    "df['day'] = df['ts'].apply(lambda x: x.day)\n",
    "df['hour'] = df['ts'].apply(lambda x: x.hour)\n",
    "\n",
    "df.head()"
   ]
  },
  {
   "cell_type": "markdown",
   "id": "83b9983c-40fa-457e-9637-8beac00ab319",
   "metadata": {},
   "source": [
    "## Save the Final Dataset"
   ]
  },
  {
   "cell_type": "code",
   "execution_count": 92,
   "id": "17e5f611-476c-4c40-a3bf-040248662c08",
   "metadata": {},
   "outputs": [],
   "source": [
    "df[['user_id','book_id','month','day', 'hour', 'rating']].to_csv('./data/goodreads_pairs_2016_enhanced.csv', \n",
    "                                                                 index=False)"
   ]
  },
  {
   "cell_type": "code",
   "execution_count": null,
   "id": "10c79c98-11c3-4ba8-81e3-d06661157bc1",
   "metadata": {},
   "outputs": [],
   "source": []
  }
 ],
 "metadata": {
  "kernelspec": {
   "display_name": "Python 3 (ipykernel)",
   "language": "python",
   "name": "python3"
  },
  "language_info": {
   "codemirror_mode": {
    "name": "ipython",
    "version": 3
   },
   "file_extension": ".py",
   "mimetype": "text/x-python",
   "name": "python",
   "nbconvert_exporter": "python",
   "pygments_lexer": "ipython3",
   "version": "3.9.13"
  }
 },
 "nbformat": 4,
 "nbformat_minor": 5
}
